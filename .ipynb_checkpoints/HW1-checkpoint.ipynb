{
 "cells": [
  {
   "cell_type": "markdown",
   "metadata": {},
   "source": [
    "# NLP 2017 - HW1"
   ]
  },
  {
   "cell_type": "markdown",
   "metadata": {},
   "source": [
    "### Asi Messica and Eran Barash"
   ]
  },
  {
   "cell_type": "markdown",
   "metadata": {
    "collapsed": false
   },
   "source": [
    "1. Data exploration\n",
    "1.1 Manual tagging\n"
   ]
  },
  {
   "cell_type": "code",
   "execution_count": 16,
   "metadata": {
    "collapsed": false
   },
   "outputs": [],
   "source": [
    "sentence1 = \"One of the most basic and most useful task when processing text is to tokenize each word separately and label each word according to its most likely part of speech.\"\n",
    "sentence1_manual_tagging = \"One/DET of/ADP the/DET most/ basic/ and/ most/ useful/ task/NOUN when/ processing/VERB text/NOUN is/ to/ tokenize/VERB each/ word/NOUN seaperately/ and/ label/VERB each/ word/NOUN according/ to/ its/ most/ likely/ part/ of/ speech/ \""
   ]
  },
  {
   "cell_type": "code",
   "execution_count": 20,
   "metadata": {
    "collapsed": true
   },
   "outputs": [],
   "source": [
    "sentence1_manual_tagging =nltk.pos_tag(nltk.word_tokenize(sentence1))"
   ]
  },
  {
   "cell_type": "code",
   "execution_count": 21,
   "metadata": {
    "collapsed": false,
    "scrolled": true
   },
   "outputs": [
    {
     "name": "stdout",
     "output_type": "stream",
     "text": [
      "[('One', 'CD'), ('of', 'IN'), ('the', 'DT'), ('most', 'RBS'), ('basic', 'JJ'), ('and', 'CC'), ('most', 'JJS'), ('useful', 'JJ'), ('task', 'NN'), ('when', 'WRB'), ('processing', 'VBG'), ('text', 'NN'), ('is', 'VBZ'), ('to', 'TO'), ('tokenize', 'VB'), ('each', 'DT'), ('word', 'NN'), ('separately', 'RB'), ('and', 'CC'), ('label', 'VB'), ('each', 'DT'), ('word', 'NN'), ('according', 'VBG'), ('to', 'TO'), ('its', 'PRP$'), ('most', 'RBS'), ('likely', 'JJ'), ('part', 'NN'), ('of', 'IN'), ('speech', 'NN'), ('.', '.')]\n"
     ]
    }
   ],
   "source": [
    "print(sentence1_manual_tagging)"
   ]
  },
  {
   "cell_type": "markdown",
   "metadata": {
    "collapsed": true
   },
   "source": [
    "1.2 Gathering and Cleaning Up Data"
   ]
  },
  {
   "cell_type": "markdown",
   "metadata": {},
   "source": [
    "Search articles for \"nobel prize\""
   ]
  },
  {
   "cell_type": "code",
   "execution_count": 2,
   "metadata": {
    "collapsed": false
   },
   "outputs": [],
   "source": [
    "import justext\n",
    "import requests\n",
    "import re\n",
    "import nltk\n",
    "import os\n",
    "import google3\n",
    "import codecs\n",
    "\n",
    "def EnsureDir(f):\n",
    "    d = os.path.dirname(f)\n",
    "    if not os.path.exists(d):\n",
    "        os.makedirs(d)\n",
    "\n",
    "def PrintFile(text, fileName):\n",
    "    EnsureDir(\"clean/\")\n",
    "    f = codecs.open(os.path.join(\"clean\", fileName), \"w\", encoding=\"utf-8\")\n",
    "    f.write(text)\n",
    "    f.write(\"\\n\")\n",
    "    f.close()\n",
    "\n",
    "search = \"nobel prize\"\n",
    "filename = \"cleanTxt\"\n",
    "links = google3.getGoogleResults(search)\n",
    "i=0\n",
    "max = 10\n",
    "for url in links:\n",
    "    if (i<max):\n",
    "            try:\n",
    "                html = requests.get(url).text\n",
    "            except:\n",
    "                print(\"error\") \n",
    "            html = re.sub(\"[\\r\\n]+\", \"\\n\", html)\n",
    "            html = re.sub(\"[\\n]+\", \"\\n\", html)\n",
    "            html = re.sub(\"[\\t, ]+\",\" \", html)\n",
    "            raw = google3.cleanHtml(html)\n",
    "            if (raw != ''):\n",
    "                pfileName = filename + str(i) + \".txt\"\n",
    "                #google3.PrintFile(raw,pfileName)\n",
    "                PrintFile(raw,pfileName)\n",
    "                i+=1\n"
   ]
  },
  {
   "cell_type": "markdown",
   "metadata": {},
   "source": [
    "Read and tage 20 sentences from the first file using a combined tagger: regular experession and 1-5 gram tagger"
   ]
  },
  {
   "cell_type": "code",
   "execution_count": null,
   "metadata": {
    "collapsed": true
   },
   "outputs": [],
   "source": [
    "#read and tag 20 senteces from one file  \n",
    "from nltk.corpus import brown\n",
    "from nltk import NgramTagger\n",
    "import nltk\n",
    "import string\n",
    "import os\n",
    "\n",
    "def remove_non_ascii(s):\n",
    "    return filter(lambda x: x in ascii, s)\n",
    "\n",
    "def EnsureDir(f):\n",
    "    d = os.path.dirname(f)\n",
    "    if not os.path.exists(d):\n",
    "        os.makedirs(d)\n",
    "\n",
    "def isEnglish(s):\n",
    "    return s.translate(None, string.punctuation).isalnum()\n",
    "\n",
    "def translate(sent):\n",
    "        t = ' '.join([nltk.tag.tuple2str(item) for item in sent])\n",
    "        return t\n",
    "\n",
    "trains = brown.tagged_sents(tagset='universal')\n",
    "tagger = nltk.DefaultTagger('NOUN')\n",
    "\n",
    "\n",
    "##Making n-gram tagger using Turing backoff\n",
    "tagger = nltk.RegexpTagger(\n",
    "    [(r'^-?[0-9]+(.[0-9]+)?$', 'NUM'),   # cardinal numbers\n",
    "     (r'(The|the|A|a|An|an)$', 'DET'),   # articles\n",
    "     (r'.*able$', 'ADJ'),                # adjectives\n",
    "     (r'.*ness$', 'NOUN'),                # nouns formed from adjectives  \n",
    "     (r'.*ly$', 'ADV'),                  # adverbs\n",
    "     (r'.*s$', 'NOUN'),                  # plural nouns  \n",
    "     (r'.*ing$', 'VERB'),                # gerunds   \n",
    "     (r'.*ed$', 'VERB'),                 # past tense verbs\n",
    "     (r'.*', 'NOUN')                      # nouns (default)\n",
    "    ])\n",
    "\n",
    "for n in range(1,5):  # start at unigrams (1) up to and including trigrams (3)\n",
    "    tagger = NgramTagger(n, trains, backoff=tagger)\n",
    "#tagger = NgramTagger(3,trains,backoff=tagger)\n",
    "limit = 20\n",
    "index = 0\n",
    "EnsureDir(\"tagged/\")\n",
    "\n",
    "for i in range (0,1):   \n",
    "    pfileName = \".//clean//\"+filename+ str(i) + \".txt\"\n",
    "    outFileName = \"NgramTagging\"+str(i)+\".txt\"\n",
    "    text_file = open(os.path.join(\"tagged\", outFileName), \"w\")\n",
    "    with open(pfileName,encoding=\"utf-8\") as f:\n",
    "        text = f.read()\n",
    "        text = text.strip(string.punctuation)\n",
    "        #text = remove_non_ascii(text)\n",
    "        sentences = nltk.sent_tokenize(text)\n",
    "        for sent in sentences:\n",
    "            index += 1\n",
    "            #print(sent)\n",
    "            tokens = nltk.word_tokenize(sent)\n",
    "            tagging = tagger.tag(tokens)\n",
    "            #print(tagging)\n",
    "            t = translate(tagging)\n",
    "            #print(t)\n",
    "            text_file.write(t+\"\\n\"+\"\\n\")\n",
    "            if index == limit:\n",
    "                break         \n",
    "    text_file.close()        \n",
    "        \n",
    "\n",
    "#print(text)"
   ]
  },
  {
   "cell_type": "markdown",
   "metadata": {},
   "source": [
    "Generate two manually tagged files and compare between them"
   ]
  },
  {
   "cell_type": "code",
   "execution_count": null,
   "metadata": {
    "collapsed": true
   },
   "outputs": [],
   "source": [
    "import os\n",
    "import codecs\n",
    "import difflib\n",
    "\n",
    "EnsureDir(\"checked1/\")\n",
    "EnsureDir(\"checked2/\")\n",
    "EnsureDir(\"final/\")\n",
    "\n",
    "test = 0\n",
    "\n",
    "\n",
    "#file1Name = codecs.open(os.path.join(\"checked1\", fileName), \"r\")\n",
    "fileName = \"NgramTagging0.txt\"\n",
    "\n",
    "file1 = open(os.path.join(\"checked1\", fileName), \"r\")\n",
    "file2 = open(os.path.join(\"checked2\", fileName), \"r\")\n",
    "diff = difflib.context_diff(file1.readlines(), file2.readlines())\n",
    "delta = ''.join(diff)\n",
    "if (test == 1):\n",
    "    print(delta)"
   ]
  },
  {
   "cell_type": "markdown",
   "metadata": {},
   "source": [
    "Verify that tagged corpus reader works fine"
   ]
  },
  {
   "cell_type": "code",
   "execution_count": null,
   "metadata": {
    "collapsed": true
   },
   "outputs": [],
   "source": [
    "import nltk\n",
    "import os\n",
    "\n",
    "test = 0\n",
    "\n",
    "if (test == 1):\n",
    "    mycorpus = nltk.corpus.reader.TaggedCorpusReader(\"final/\", \"NgramTagging0.txt\")\n",
    "    print(mycorpus.fileids())\n",
    "    print(\"\\n\")\n",
    "    print(mycorpus.sents()[0])"
   ]
  },
  {
   "cell_type": "markdown",
   "metadata": {
    "collapsed": true
   },
   "source": [
    "1.3 Gathering Basic Statistics"
   ]
  },
  {
   "cell_type": "code",
   "execution_count": 17,
   "metadata": {
    "collapsed": false,
    "scrolled": false
   },
   "outputs": [
    {
     "data": {
      "image/png": "[encoded data removed]",
      "text/plain": [
       "<matplotlib.figure.Figure at 0x7f8ad0c7c518>"
      ]
     },
     "metadata": {},
     "output_type": "display_data"
    }
   ],
   "source": [
    "import nltk\n",
    "from nltk.corpus import brown\n",
    "import pylab\n",
    "\n",
    "cfd = nltk.ConditionalFreqDist(brown.tagged_words())\n",
    "size2words = nltk.Index((len(tags), word) for (word, tags) in cfd.items())\n",
    "sizes = pylab.arange(1, 12)\n",
    "\n",
    "pylab.plot(sizes, [len(size2words[size]) for size in sizes], '-bo')\n",
    "pylab.title('Number of words with a given number of tags')\n",
    "pylab.xlabel('Number of tags')\n",
    "pylab.ylabel('Number of words')\n",
    "pylab.show()"
   ]
  },
  {
   "cell_type": "markdown",
   "metadata": {},
   "source": [
    "2. Stratified Test/Train Sets\n",
    "'train' and 'test' are dictionaries of category: tagged_sents. This was done inorder to simplify follwing tasks. "
   ]
  },
  {
   "cell_type": "code",
   "execution_count": 76,
   "metadata": {
    "collapsed": true
   },
   "outputs": [],
   "source": [
    "import nltk\n",
    "from functools import reduce\n",
    "from nltk.corpus import brown \n",
    "\n",
    "def category_split(sents, ratio):\n",
    "    size = int(len(sents) * ratio)\n",
    "    return sents[:size], sents[size:]\n",
    "\n",
    "def stratified_split(corpus, ratio=0.9):\n",
    "    train = {}\n",
    "    test = {}\n",
    "    for cat in corpus.categories():\n",
    "        cat_train_test = category_split(corpus.tagged_sents(categories=cat), ratio)\n",
    "        train[cat] = cat_train_test[0]\n",
    "        test[cat] = cat_train_test[1]\n",
    "    return train, test"
   ]
  },
  {
   "cell_type": "code",
   "execution_count": 216,
   "metadata": {
    "collapsed": false,
    "scrolled": true
   },
   "outputs": [],
   "source": [
    "train, test = stratified_split(brown)"
   ]
  },
  {
   "cell_type": "markdown",
   "metadata": {},
   "source": [
    "3. Unigram"
   ]
  },
  {
   "cell_type": "markdown",
   "metadata": {},
   "source": [
    "3.1.1 Class SimpleUnigramTagger"
   ]
  },
  {
   "cell_type": "code",
   "execution_count": 268,
   "metadata": {
    "collapsed": false
   },
   "outputs": [],
   "source": [
    "import nltk\n",
    "from collections import defaultdict\n",
    "class SimpleUnigramTagger(nltk.TaggerI):\n",
    "    def __init__(self, train):\n",
    "        self._train(train)\n",
    "        \n",
    "    def _train(self, tagged_corpus):\n",
    "        tagged_words = [tagged_word for sent in tagged_corpus for tagged_word in sent]\n",
    "        cfd = nltk.ConditionalFreqDist(tagged_words)\n",
    "        self._likely_tags = defaultdict(lambda: 'NONE')\n",
    "        for word in cfd:\n",
    "            self._likely_tags[word] = cfd[word].max()\n",
    "        \n",
    "    def tag(self, tokens):\n",
    "        return [(word, self._likely_tags[word]) for word in tokens]\n",
    "    \n",
    "    def tag_one(self, word):\n",
    "        return word, self._likely_tags[word]\n"
   ]
  },
  {
   "cell_type": "markdown",
   "metadata": {},
   "source": [
    "3.1.2 SimpleUnigramTagger and nltk.UnigramTagger evalution comparison"
   ]
  },
  {
   "cell_type": "code",
   "execution_count": 105,
   "metadata": {
    "collapsed": false
   },
   "outputs": [
    {
     "name": "stdout",
     "output_type": "stream",
     "text": [
      "SimpleUnigramTagger evaluation: \n",
      "0.8817004462080685\n",
      "\n",
      "nltk.UnigramTagger evaluation: \n",
      "0.8817004462080685\n"
     ]
    }
   ],
   "source": [
    "clean_train = [sent for sents in train.values() for sent in sents]\n",
    "clean_test = [sent for sents in test.values() for sent in sents]\n",
    "tagger = SimpleUnigramTagger(train=clean_train)\n",
    "nltk_tagger = nltk.UnigramTagger(train=clean_train)\n",
    "\n",
    "print(\"SimpleUnigramTagger evaluation: \\n{0}\\n\".format(tagger.evaluate(clean_test)))\n",
    "print(\"nltk.UnigramTagger evaluation: \\n{0}\".format(nltk_tagger.evaluate(clean_test)))"
   ]
  },
  {
   "cell_type": "markdown",
   "metadata": {},
   "source": [
    "3.1.3 Known and unknown words"
   ]
  },
  {
   "cell_type": "code",
   "execution_count": 137,
   "metadata": {
    "collapsed": false
   },
   "outputs": [
    {
     "name": "stdout",
     "output_type": "stream",
     "text": [
      "Error due to unknown words: 0.040594051117194496.\n",
      "Error due to known words: 0.07770550267473691.\n"
     ]
    }
   ],
   "source": [
    "def remove_tags(sent):\n",
    "    return [word for (word, _) in sent]\n",
    "tagged_test = [tagger.tag(remove_tags(sent)) for sent in clean_test]\n",
    "test_size = sum([1 for sent in clean_test for word in sent])\n",
    "unk_num = sum([1 for sent in tagged_test for (_, tag) in sent if tag == \"NONE\"])\n",
    "known_num = 0\n",
    "for i in range(len(clean_test)):\n",
    "    for j in range(len(clean_test[i])):\n",
    "        if (tagged_test[i][j][1] != \"NONE\") and (tagged_test[i][j][1] != clean_test[i][j][1]):\n",
    "            known_num += 1\n",
    "print(\"Error due to unknown words: {0}.\".format(unk_num/test_size))\n",
    "print(\"Error due to known words: {0}.\".format(known_num/test_size))"
   ]
  },
  {
   "cell_type": "markdown",
   "metadata": {},
   "source": [
    "3.1.4 Rate of unknown words per category"
   ]
  },
  {
   "cell_type": "code",
   "execution_count": 103,
   "metadata": {
    "collapsed": false
   },
   "outputs": [
    {
     "name": "stdout",
     "output_type": "stream",
     "text": [
      "mystery: 146 unkown words.\n",
      "lore: 393 unkown words.\n",
      "adventure: 364 unkown words.\n",
      "belles_lettres: 793 unkown words.\n",
      "religion: 70 unkown words.\n",
      "reviews: 219 unkown words.\n",
      "hobbies: 435 unkown words.\n",
      "news: 392 unkown words.\n",
      "government: 233 unkown words.\n",
      "science_fiction: 26 unkown words.\n",
      "romance: 191 unkown words.\n",
      "learned: 943 unkown words.\n",
      "humor: 172 unkown words.\n",
      "editorial: 244 unkown words.\n",
      "fiction: 228 unkown words.\n"
     ]
    }
   ],
   "source": [
    "for cat in test.keys():\n",
    "    tagged_words = tagger.tag([word for sent in test[cat] for (word, _) in sent])\n",
    "    print(\"{0}: {1} unkown words.\".format(cat, sum([1 for (_, tag) in tagged_words if tag == \"NONE\"])))"
   ]
  },
  {
   "cell_type": "markdown",
   "metadata": {
    "collapsed": true
   },
   "source": [
    "3.2 Using Entropy to Filter Affix Tagger"
   ]
  },
  {
   "cell_type": "code",
   "execution_count": 444,
   "metadata": {
    "collapsed": false
   },
   "outputs": [],
   "source": [
    "from math import log\n",
    "from collections import defaultdict\n",
    "\n",
    "# length of suffix to map suffix->tag\n",
    "suffix_length = -2\n",
    "\n",
    "# get token's suffix \n",
    "def get_context(token):\n",
    "    return token[suffix_length:]\n",
    "\n",
    "def entropy(tag_fd):\n",
    "    total_occ = sum([occ for (_, occ) in tag_fd])\n",
    "    res = 0\n",
    "    for (_, occ) in tag_fd:\n",
    "        p = occ / total_occ\n",
    "        res -= p * log(p, 2)\n",
    "    return res\n",
    "\n",
    "def aff_train(tagged_corpus, cutoff=0):\n",
    "    \n",
    "    # Count how many times each tag occurs in each context.\n",
    "    fd = nltk.ConditionalFreqDist()\n",
    "    for sentence in tagged_corpus:\n",
    "        for (token, tag) in sentence:\n",
    "            context = get_context(token)\n",
    "            fd[context][tag] += 1\n",
    "    \n",
    "    context_to_tag = dict((word, fd[word].max()) for word in fd if entropy(fd[word].items()) < cutoff)\n",
    "    return context_to_tag\n",
    "    \n",
    "    "
   ]
  },
  {
   "cell_type": "markdown",
   "metadata": {},
   "source": [
    "Dividing the train set to train and developement:"
   ]
  },
  {
   "cell_type": "code",
   "execution_count": 445,
   "metadata": {
    "collapsed": false
   },
   "outputs": [],
   "source": [
    "ratio = 0.9\n",
    "opt_train = []\n",
    "opt_dev = []\n",
    "for sents in train.values():\n",
    "    train_size = int(ratio * len(sents))\n",
    "    opt_train += sents[:train_size]\n",
    "    opt_dev += sents[train_size:]"
   ]
  },
  {
   "cell_type": "markdown",
   "metadata": {},
   "source": [
    "Choosing cutoff's range"
   ]
  },
  {
   "cell_type": "code",
   "execution_count": 446,
   "metadata": {
    "collapsed": false,
    "scrolled": true
   },
   "outputs": [
    {
     "data": {
      "image/png": "[encoded data removed]",
      "text/plain": [
       "<matplotlib.figure.Figure at 0x7ffa2a3f7978>"
      ]
     },
     "metadata": {},
     "output_type": "display_data"
    }
   ],
   "source": [
    "import pylab\n",
    "from numpy import arange\n",
    "cutoffs = arange(0, 4, 0.5)\n",
    "pylab.plot(cutoffs, [len(aff_train(clean_train, cutoff)) for cutoff in cutoffs], '-bo')\n",
    "pylab.title('Model size vs. cutoff')\n",
    "pylab.xlabel('cutoff')\n",
    "pylab.ylabel('model size (number of words)')\n",
    "pylab.show()"
   ]
  },
  {
   "cell_type": "markdown",
   "metadata": {},
   "source": [
    "Optimizing the cutoff"
   ]
  },
  {
   "cell_type": "code",
   "execution_count": 447,
   "metadata": {
    "collapsed": false
   },
   "outputs": [],
   "source": [
    "backoff = SimpleUnigramTagger(opt_train)\n",
    "counter = 0\n",
    "def aff_tag_one(token, context):\n",
    "    if token in context:\n",
    "        return token, context[get_context(token)]\n",
    "        \n",
    "    else:\n",
    "        return backoff.tag_one(token)\n",
    "\n",
    "def aff_tag(tokens, context):\n",
    "    return [aff_tag_one(token, context) for token in tokens]"
   ]
  },
  {
   "cell_type": "code",
   "execution_count": 448,
   "metadata": {
    "collapsed": false
   },
   "outputs": [],
   "source": [
    "opt_dev_clean = [word for sent in opt_dev for word in sent]\n",
    "size = len(opt_dev_clean)\n",
    "def opt_cutoff(cutoff):\n",
    "    context_to_tag = aff_train(opt_train, cutoff)\n",
    "    tagged = aff_tag(remove_tags(opt_dev_clean), context_to_tag)\n",
    "    error = 0\n",
    "    for i in range(len(opt_dev_clean)):\n",
    "        if tagged[i][1] != opt_dev_clean[i][1]:\n",
    "            error += 1\n",
    "    return error / size"
   ]
  },
  {
   "cell_type": "code",
   "execution_count": 449,
   "metadata": {
    "collapsed": true
   },
   "outputs": [],
   "source": [
    "cutoffs = arange(0, 1, 0.1)\n",
    "errors = [opt_cutoff(cutoff) for cutoff in cutoffs]"
   ]
  },
  {
   "cell_type": "code",
   "execution_count": 450,
   "metadata": {
    "collapsed": false
   },
   "outputs": [
    {
     "data": {
      "text/plain": [
       "[0.8700567147795442,\n",
       " 0.8701626337226657,\n",
       " 0.8701915207071533,\n",
       " 0.8701915207071533,\n",
       " 0.8701915207071533,\n",
       " 0.8701915207071533,\n",
       " 0.8701915207071533,\n",
       " 0.8636534332181064,\n",
       " 0.8636534332181064,\n",
       " 0.8636534332181064]"
      ]
     },
     "execution_count": 450,
     "metadata": {},
     "output_type": "execute_result"
    }
   ],
   "source": [
    "[1-error for error in errors]"
   ]
  },
  {
   "cell_type": "markdown",
   "metadata": {},
   "source": [
    "Comparing the models"
   ]
  },
  {
   "cell_type": "code",
   "execution_count": 459,
   "metadata": {
    "collapsed": false
   },
   "outputs": [
    {
     "name": "stdout",
     "output_type": "stream",
     "text": [
      "SimpleUnigramTagger evaluation: \n",
      "0.8817004462080685\n",
      "\n",
      "Affix with entropy evaluation: \n",
      "0.8786364283262593\n",
      "\n"
     ]
    }
   ],
   "source": [
    "print(\"SimpleUnigramTagger evaluation: \\n{0}\\n\".format(tagger.evaluate(clean_test)))\n",
    "context_to_tag = aff_train(clean_train, 0.2)\n",
    "test_tagged_words = [tagged_word for sent in clean_test for tagged_word in sent]\n",
    "tagged = aff_tag(remove_tags(test_tagged_words), context_to_tag)\n",
    "error = 0\n",
    "for i in range(len(test_tagged_words)):\n",
    "    if tagged[i][1] != test_tagged_words[i][1]:\n",
    "        error += 1\n",
    "error = error / len(test_tagged_words)\n",
    "print(\"Affix with entropy evaluation: \\n{0}\\n\".format(1-error))"
   ]
  },
  {
   "cell_type": "markdown",
   "metadata": {},
   "source": [
    "Extracting good suffixes"
   ]
  },
  {
   "cell_type": "code",
   "execution_count": 452,
   "metadata": {
    "collapsed": false
   },
   "outputs": [
    {
     "name": "stdout",
     "output_type": "stream",
     "text": [
      "\n"
     ]
    }
   ],
   "source": [
    "print(\",\".join(context_to_tag.keys()))"
   ]
  },
  {
   "cell_type": "markdown",
   "metadata": {},
   "source": [
    "### Discussion:\n",
    "\n",
    "Does entropy filtering improve the accuracy of the AffixTagger?\n",
    "As seen above, entropy filtering did not improve the unigram tagger's accuracy. Tests were done on suffixes of length 3 and 2. Only 2-long suffixes improved accuracy by a negligent sum.\n",
    "\n",
    "How do you determine the range of values to test for the cutoff?\n",
    "As seen in the graph above, the range which affected the context size was chosen as the tested cutoff range. At the beginning, the range was 0..3, but it was then reduced to 0..1 since the error was monotonously rising after roughly cutoff=6.\n",
    "\n",
    "Is the accuracy value evolving in a predictable manner as the cutoff varies?\n",
    "As the cutoff increases, accuracy reduces. As the cutoff increases, the model allows more suffix tagging, and relies less on the unigram tagger. In this particular case, the unigram tagging seems preferable to suffix tagging, and thus the trend makes sense. Perhaps on a larger database, suffix tagging would have shown better results. \n",
    "\n",
    "Describe the list of suffixes that are good tag predictors -- are you surprised by what you observe?\n",
    "Seems like mostly random letters, digits, signs. These were presumably rare in the data-set and thus less ambigous - better predictors. In some cases, those are complete words, like am (which could be ambigous also) or he (less ambigous).  "
   ]
  },
  {
   "cell_type": "code",
   "execution_count": 456,
   "metadata": {
    "collapsed": false
   },
   "outputs": [
    {
     "data": {
      "text/plain": [
       "119451"
      ]
     },
     "execution_count": 456,
     "metadata": {},
     "output_type": "execute_result"
    }
   ],
   "source": [
    "len(tagged)"
   ]
  },
  {
   "cell_type": "code",
   "execution_count": 457,
   "metadata": {
    "collapsed": false
   },
   "outputs": [
    {
     "data": {
      "text/plain": [
       "119451"
      ]
     },
     "execution_count": 457,
     "metadata": {},
     "output_type": "execute_result"
    }
   ],
   "source": [
    "len(test_tagged_words)"
   ]
  },
  {
   "cell_type": "code",
   "execution_count": 455,
   "metadata": {
    "collapsed": false
   },
   "outputs": [
    {
     "data": {
      "text/plain": [
       "[('I', 'PPSS'),\n",
       " (\"don't\", 'DO*'),\n",
       " ('know', 'VB'),\n",
       " ('by', 'IN'),\n",
       " ('whom', 'WPO'),\n",
       " ('.', '.'),\n",
       " ('About', 'RB'),\n",
       " ('five', 'CD'),\n",
       " ('years', 'NNS'),\n",
       " ('ago', 'RB'),\n",
       " (',', ','),\n",
       " ('Handley', 'NONE'),\n",
       " ('came', 'VBD'),\n",
       " ('to', 'TO'),\n",
       " ('ask', 'VB'),\n",
       " ('me', 'PPO'),\n",
       " ('if', 'CS'),\n",
       " ('he', 'PPS'),\n",
       " ('could', 'MD'),\n",
       " ('see', 'VB')]"
      ]
     },
     "execution_count": 455,
     "metadata": {},
     "output_type": "execute_result"
    }
   ],
   "source": [
    "tagged[10:30]"
   ]
  },
  {
   "cell_type": "code",
   "execution_count": 431,
   "metadata": {
    "collapsed": false
   },
   "outputs": [
    {
     "data": {
      "text/plain": [
       "FreqDist({',': 51912, ',-HL': 149, ',-NC': 5, ',-TL': 4, 'FW-RB-TL': 1})"
      ]
     },
     "execution_count": 431,
     "metadata": {},
     "output_type": "execute_result"
    }
   ],
   "source": [
    "context_to_tag[',']"
   ]
  },
  {
   "cell_type": "code",
   "execution_count": 433,
   "metadata": {
    "collapsed": true
   },
   "outputs": [],
   "source": [
    "fd = nltk.ConditionalFreqDist()\n",
    "fd[\"hello\"][\"VERB\"] = 5\n",
    "fd[\"hello\"][\"NOUN\"] = 2"
   ]
  },
  {
   "cell_type": "code",
   "execution_count": 435,
   "metadata": {
    "collapsed": false
   },
   "outputs": [
    {
     "data": {
      "text/plain": [
       "'VERB'"
      ]
     },
     "execution_count": 435,
     "metadata": {},
     "output_type": "execute_result"
    }
   ],
   "source": [
    "fd[\"hello\"].max()"
   ]
  },
  {
   "cell_type": "code",
   "execution_count": 439,
   "metadata": {
    "collapsed": false
   },
   "outputs": [
    {
     "data": {
      "text/plain": [
       "'to'"
      ]
     },
     "execution_count": 439,
     "metadata": {},
     "output_type": "execute_result"
    }
   ],
   "source": [
    "\"to\"[-3:]"
   ]
  },
  {
   "cell_type": "code",
   "execution_count": null,
   "metadata": {
    "collapsed": true
   },
   "outputs": [],
   "source": []
  }
 ],
 "metadata": {
  "anaconda-cloud": {},
  "kernelspec": {
   "display_name": "Python [default]",
   "language": "python",
   "name": "python3"
  },
  "language_info": {
   "codemirror_mode": {
    "name": "ipython",
    "version": 3
   },
   "file_extension": ".py",
   "mimetype": "text/x-python",
   "name": "python",
   "nbconvert_exporter": "python",
   "pygments_lexer": "ipython3",
   "version": "3.5.2"
  }
 },
 "nbformat": 4,
 "nbformat_minor": 0
}
