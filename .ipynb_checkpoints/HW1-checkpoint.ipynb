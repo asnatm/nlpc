{
 "cells": [
  {
   "cell_type": "markdown",
   "metadata": {},
   "source": [
    "# NLP 2017 - HW1"
   ]
  },
  {
   "cell_type": "markdown",
   "metadata": {},
   "source": [
    "### Asi Messica and Eran Barash"
   ]
  },
  {
   "cell_type": "markdown",
   "metadata": {
    "collapsed": false
   },
   "source": [
    "1. Data exploration\n",
    "1.1 Manual tagging\n"
   ]
  },
  {
   "cell_type": "code",
   "execution_count": 1,
   "metadata": {
    "collapsed": false
   },
   "outputs": [],
   "source": [
    "sentence1 = \"One of the most basic and most useful task when processing text is to tokenize each word separately and label each word according to its most likely part of speech.\"\n",
    "sentence1_manual_tagging = \"One/DET of/ADP the/DET most/ basic/ and/ most/ useful/ task/NOUN when/ processing/VERB text/NOUN is/ to/ tokenize/VERB each/ word/NOUN seaperately/ and/ label/VERB each/ word/NOUN according/ to/ its/ most/ likely/ part/ of/ speech/ \""
   ]
  },
  {
   "cell_type": "code",
   "execution_count": 2,
   "metadata": {
    "collapsed": false
   },
   "outputs": [],
   "source": [
    "import nltk\n",
    "sentence1_manual_tagging =nltk.pos_tag(nltk.word_tokenize(sentence1))"
   ]
  },
  {
   "cell_type": "code",
   "execution_count": 3,
   "metadata": {
    "collapsed": false,
    "scrolled": true
   },
   "outputs": [
    {
     "name": "stdout",
     "output_type": "stream",
     "text": [
      "[('One', 'CD'), ('of', 'IN'), ('the', 'DT'), ('most', 'RBS'), ('basic', 'JJ'), ('and', 'CC'), ('most', 'JJS'), ('useful', 'JJ'), ('task', 'NN'), ('when', 'WRB'), ('processing', 'VBG'), ('text', 'NN'), ('is', 'VBZ'), ('to', 'TO'), ('tokenize', 'VB'), ('each', 'DT'), ('word', 'NN'), ('separately', 'RB'), ('and', 'CC'), ('label', 'VB'), ('each', 'DT'), ('word', 'NN'), ('according', 'VBG'), ('to', 'TO'), ('its', 'PRP$'), ('most', 'RBS'), ('likely', 'JJ'), ('part', 'NN'), ('of', 'IN'), ('speech', 'NN'), ('.', '.')]\n"
     ]
    }
   ],
   "source": [
    "print(sentence1_manual_tagging)"
   ]
  },
  {
   "cell_type": "markdown",
   "metadata": {
    "collapsed": true
   },
   "source": [
    "1.2 Gathering and Cleaning Up Data"
   ]
  },
  {
   "cell_type": "markdown",
   "metadata": {},
   "source": [
    "Search articles for \"nobel prize\""
   ]
  },
  {
   "cell_type": "code",
   "execution_count": 4,
   "metadata": {
    "collapsed": true
   },
   "outputs": [],
   "source": [
    "import justext\n",
    "import requests\n",
    "import re\n",
    "import nltk\n",
    "import os\n",
    "import google3\n",
    "import codecs\n",
    "\n",
    "def EnsureDir(f):\n",
    "    d = os.path.dirname(f)\n",
    "    if not os.path.exists(d):\n",
    "        os.makedirs(d)\n",
    "\n",
    "def PrintFile(text, fileName):\n",
    "    EnsureDir(\"clean/\")\n",
    "    f = codecs.open(os.path.join(\"clean\", fileName), \"w\", encoding=\"utf-8\")\n",
    "    f.write(text)\n",
    "    f.write(\"\\n\")\n",
    "    f.close()"
   ]
  },
  {
   "cell_type": "code",
   "execution_count": 5,
   "metadata": {
    "collapsed": false
   },
   "outputs": [],
   "source": [
    "search = \"nobel prize\"\n",
    "filename = \"cleanTxt\"\n",
    "links = google3.getGoogleResults(search)\n",
    "i=0\n",
    "max = 10\n",
    "for url in links:\n",
    "    if (i<max):\n",
    "            try:\n",
    "                html = requests.get(url).text\n",
    "            except:\n",
    "                print(\"error\") \n",
    "            html = re.sub(\"[\\r\\n]+\", \"\\n\", html)\n",
    "            html = re.sub(\"[\\n]+\", \"\\n\", html)\n",
    "            html = re.sub(\"[\\t, ]+\",\" \", html)\n",
    "            raw = google3.cleanHtml(html)\n",
    "            if (raw != ''):\n",
    "                pfileName = filename + str(i) + \".txt\"\n",
    "                PrintFile(raw,pfileName)\n",
    "                i+=1\n"
   ]
  },
  {
   "cell_type": "markdown",
   "metadata": {},
   "source": [
    "Read and tage 20 sentences from the first file using a combined tagger: regular experession and 1-5 gram tagger"
   ]
  },
  {
   "cell_type": "code",
   "execution_count": 9,
   "metadata": {
    "collapsed": true
   },
   "outputs": [],
   "source": [
    "#read and tag 20 senteces from one file  \n",
    "from nltk.corpus import brown\n",
    "from nltk import NgramTagger\n",
    "import nltk\n",
    "import string\n",
    "import os\n",
    "\n",
    "\n",
    "def EnsureDir(f):\n",
    "    d = os.path.dirname(f)\n",
    "    if not os.path.exists(d):\n",
    "        os.makedirs(d)\n",
    "\n",
    "def translate(sent):\n",
    "        t = ' '.join([nltk.tag.tuple2str(item) for item in sent])\n",
    "        return t"
   ]
  },
  {
   "cell_type": "code",
   "execution_count": 10,
   "metadata": {
    "collapsed": false
   },
   "outputs": [],
   "source": [
    "#prepare taggers and train data set\n",
    "\n",
    "trains = brown.tagged_sents(tagset='universal')\n",
    "\n",
    "##Making n-gram tagger using regular experession backoff\n",
    "\n",
    "#tagger = nltk.DefaultTagger('NOUN')\n",
    "\n",
    "tagger = nltk.RegexpTagger(\n",
    "    [(r'^-?[0-9]+(.[0-9]+)?$', 'NUM'),   # cardinal numbers\n",
    "     (r'(The|the|A|a|An|an)$', 'DET'),   # articles\n",
    "     (r'.*able$', 'ADJ'),                # adjectives\n",
    "     (r'.*ness$', 'NOUN'),                # nouns formed from adjectives  \n",
    "     (r'.*ly$', 'ADV'),                  # adverbs\n",
    "     (r'.*s$', 'NOUN'),                  # plural nouns  \n",
    "     (r'.*ing$', 'VERB'),                # gerunds   \n",
    "     (r'.*ed$', 'VERB'),                 # past tense verbs\n",
    "     (r'.*', 'NOUN')                      # nouns (default)\n",
    "    ])\n",
    "\n",
    "for n in range(1,5):  # start at unigrams (1) up to and including trigrams (3)\n",
    "    tagger = NgramTagger(n, trains, backoff=tagger)\n",
    "    \n",
    "#tagger = NgramTagger(3,trains,backoff=tagger)"
   ]
  },
  {
   "cell_type": "code",
   "execution_count": 11,
   "metadata": {
    "collapsed": true
   },
   "outputs": [],
   "source": [
    "limit = 20\n",
    "index = 0\n",
    "EnsureDir(\"tagged/\")\n",
    "\n",
    "for i in range (0,1):   \n",
    "    pfileName = \".//clean//\"+filename+ str(i) + \".txt\"\n",
    "    outFileName = \"NgramTagging\"+str(i)+\".txt\"\n",
    "    text_file = open(os.path.join(\"tagged\", outFileName), \"w\")\n",
    "    with open(pfileName,encoding=\"utf-8\") as f:\n",
    "        text = f.read()\n",
    "        text = text.strip(string.punctuation)\n",
    "        sentences = nltk.sent_tokenize(text)\n",
    "        for sent in sentences:\n",
    "            index += 1\n",
    "            tokens = nltk.word_tokenize(sent)\n",
    "            tagging = tagger.tag(tokens)\n",
    "            t = translate(tagging)\n",
    "            text_file.write(t+\"\\n\"+\"\\n\")\n",
    "            if index == limit:\n",
    "                break         \n",
    "    text_file.close()        "
   ]
  },
  {
   "cell_type": "markdown",
   "metadata": {},
   "source": [
    "Generate two manually tagged files and compare between them"
   ]
  },
  {
   "cell_type": "code",
   "execution_count": 12,
   "metadata": {
    "collapsed": false
   },
   "outputs": [],
   "source": [
    "import os\n",
    "import codecs\n",
    "import difflib\n",
    "\n",
    "EnsureDir(\"checked1/\")\n",
    "EnsureDir(\"checked2/\")\n",
    "EnsureDir(\"final/\")\n",
    "\n",
    "test = 0\n",
    "\n",
    "\n",
    "#file1Name = codecs.open(os.path.join(\"checked1\", fileName), \"r\")\n",
    "fileName = \"NgramTagging0.txt\"\n",
    "\n",
    "file1 = open(os.path.join(\"checked1\", fileName), \"r\")\n",
    "file2 = open(os.path.join(\"checked2\", fileName), \"r\")\n",
    "diff = difflib.context_diff(file1.readlines(), file2.readlines())\n",
    "delta = ''.join(diff)\n",
    "if (test == 1):\n",
    "    print(delta)"
   ]
  },
  {
   "cell_type": "markdown",
   "metadata": {},
   "source": [
    "Verify that tagged corpus reader works fine"
   ]
  },
  {
   "cell_type": "code",
   "execution_count": 13,
   "metadata": {
    "collapsed": true
   },
   "outputs": [],
   "source": [
    "import nltk\n",
    "import os\n",
    "\n",
    "test = 0\n",
    "\n",
    "if (test == 1):\n",
    "    mycorpus = nltk.corpus.reader.TaggedCorpusReader(\"final/\", \"NgramTagging0.txt\")\n",
    "    print(mycorpus.fileids())\n",
    "    print(\"\\n\")\n",
    "    print(mycorpus.sents()[0])"
   ]
  },
  {
   "cell_type": "markdown",
   "metadata": {},
   "source": [
    "Discussion\n",
    "\n",
    "1 Errors met while dealing with the Google engine\n",
    "Not only English urls were detected\n",
    "\n",
    "2 Errors met while downloading the material from the Google hits\n",
    "\n",
    "3 Errors met while cleaning up the HTML pages\n",
    "\n",
    "4 Errors met while segmenting the text into sentences and words\n",
    "\n",
    "5 Errors met by the automatic tagger: how many errors were reported by checked1 and checked2 each, and altogether.\n",
    "Proper nowns were not detected. \n",
    "\n",
    "6 Disagreements between checked1 and checked2.\n",
    "\n",
    "7 Actual accuracy obtained by your automatic tagger compared with the final verified version of the text collection."
   ]
  },
  {
   "cell_type": "markdown",
   "metadata": {
    "collapsed": true
   },
   "source": [
    "1.3 Gathering Basic Statistics"
   ]
  },
  {
   "cell_type": "code",
   "execution_count": 6,
   "metadata": {
    "collapsed": false,
    "scrolled": false
   },
   "outputs": [
    {
     "data": {
      "image/png": "[encoded data removed]",
      "text/plain": [
       "<matplotlib.figure.Figure at 0x7fea06c0b2b0>"
      ]
     },
     "metadata": {},
     "output_type": "display_data"
    }
   ],
   "source": [
    "import nltk\n",
    "from nltk.corpus import brown\n",
    "import pylab\n",
    "\n",
    "cfd = nltk.ConditionalFreqDist(brown.tagged_words())\n",
    "size2words = nltk.Index((len(tags), word) for (word, tags) in cfd.items())\n",
    "sizes = pylab.arange(1, 12)\n",
    "\n",
    "pylab.plot(sizes, [len(size2words[size]) for size in sizes], '-bo')\n",
    "pylab.title('Number of words with a given number of tags')\n",
    "pylab.xlabel('Number of tags')\n",
    "pylab.ylabel('Number of words')\n",
    "pylab.show()"
   ]
  },
  {
   "cell_type": "markdown",
   "metadata": {},
   "source": [
    "2. Stratified Test/Train Sets\n",
    "'train' and 'test' are dictionaries of category: tagged_sents. This was done inorder to simplify follwing tasks. "
   ]
  },
  {
   "cell_type": "code",
   "execution_count": 7,
   "metadata": {
    "collapsed": true
   },
   "outputs": [],
   "source": [
    "import nltk\n",
    "from functools import reduce\n",
    "from nltk.corpus import brown \n",
    "\n",
    "def category_split(sents, ratio):\n",
    "    size = int(len(sents) * ratio)\n",
    "    return sents[:size], sents[size:]\n",
    "\n",
    "def stratified_split(corpus, ratio=0.9):\n",
    "    train = {}\n",
    "    test = {}\n",
    "    for cat in corpus.categories():\n",
    "        cat_train_test = category_split(corpus.tagged_sents(categories=cat), ratio)\n",
    "        train[cat] = cat_train_test[0]\n",
    "        test[cat] = cat_train_test[1]\n",
    "    return train, test"
   ]
  },
  {
   "cell_type": "code",
   "execution_count": 8,
   "metadata": {
    "collapsed": false,
    "scrolled": true
   },
   "outputs": [],
   "source": [
    "train, test = stratified_split(brown)"
   ]
  },
  {
   "cell_type": "markdown",
   "metadata": {},
   "source": [
    "3.1.1 Class SimpleUnigramTagger"
   ]
  },
  {
   "cell_type": "code",
   "execution_count": 17,
   "metadata": {
    "collapsed": false
   },
   "outputs": [],
   "source": [
    "import nltk\n",
    "from collections import defaultdict\n",
    "class SimpleUnigramTagger(nltk.TaggerI):\n",
    "    def __init__(self, train):\n",
    "        self._train(train)\n",
    "        \n",
    "    def _train(self, tagged_corpus):\n",
    "        tagged_words = [tagged_word for sent in tagged_corpus for tagged_word in sent]\n",
    "        cfd = nltk.ConditionalFreqDist(tagged_words)\n",
    "        self._likely_tags = defaultdict(lambda: 'NONE')\n",
    "        for word in cfd:\n",
    "            self._likely_tags[word] = cfd[word].max()\n",
    "        \n",
    "    def tag(self, tokens):\n",
    "        return [(word, self._likely_tags[word]) for word in tokens]\n",
    "    \n",
    "    def tag_one(self, word):\n",
    "        return word, self._likely_tags[word]\n"
   ]
  },
  {
   "cell_type": "markdown",
   "metadata": {},
   "source": [
    "3. Unigram"
   ]
  },
  {
   "cell_type": "markdown",
   "metadata": {},
   "source": [
    "3.1.2 SimpleUnigramTagger and nltk.UnigramTagger evalution comparison"
   ]
  },
  {
   "cell_type": "code",
   "execution_count": 18,
   "metadata": {
    "collapsed": false
   },
   "outputs": [
    {
     "name": "stdout",
     "output_type": "stream",
     "text": [
      "SimpleUnigramTagger evaluation: \n",
      "0.8815246419033747\n",
      "\n",
      "nltk.UnigramTagger evaluation: \n",
      "0.8815246419033747\n"
     ]
    }
   ],
   "source": [
    "clean_train = [sent for sents in train.values() for sent in sents]\n",
    "clean_test = [sent for sents in test.values() for sent in sents]\n",
    "tagger = SimpleUnigramTagger(train=clean_train)\n",
    "nltk_tagger = nltk.UnigramTagger(train=clean_train)\n",
    "\n",
    "print(\"SimpleUnigramTagger evaluation: \\n{0}\\n\".format(tagger.evaluate(clean_test)))\n",
    "print(\"nltk.UnigramTagger evaluation: \\n{0}\".format(nltk_tagger.evaluate(clean_test)))"
   ]
  },
  {
   "cell_type": "markdown",
   "metadata": {},
   "source": [
    "3.1.3 Known and unknown words"
   ]
  },
  {
   "cell_type": "code",
   "execution_count": 19,
   "metadata": {
    "collapsed": false
   },
   "outputs": [
    {
     "name": "stdout",
     "output_type": "stream",
     "text": [
      "Error due to unknown words: 0.040594051117194496.\n",
      "Error due to known words: 0.0778813069794309.\n"
     ]
    }
   ],
   "source": [
    "def remove_tags(sent):\n",
    "    return [word for (word, _) in sent]\n",
    "tagged_test = [tagger.tag(remove_tags(sent)) for sent in clean_test]\n",
    "test_size = sum([1 for sent in clean_test for word in sent])\n",
    "unk_num = sum([1 for sent in tagged_test for (_, tag) in sent if tag == \"NONE\"])\n",
    "known_num = 0\n",
    "for i in range(len(clean_test)):\n",
    "    for j in range(len(clean_test[i])):\n",
    "        if (tagged_test[i][j][1] != \"NONE\") and (tagged_test[i][j][1] != clean_test[i][j][1]):\n",
    "            known_num += 1\n",
    "print(\"Error due to unknown words: {0}.\".format(unk_num/test_size))\n",
    "print(\"Error due to known words: {0}.\".format(known_num/test_size))"
   ]
  },
  {
   "cell_type": "markdown",
   "metadata": {},
   "source": [
    "3.1.4 Rate of unknown words per category"
   ]
  },
  {
   "cell_type": "code",
   "execution_count": 20,
   "metadata": {
    "collapsed": false
   },
   "outputs": [
    {
     "name": "stdout",
     "output_type": "stream",
     "text": [
      "adventure: 364 unkown words.\n",
      "hobbies: 435 unkown words.\n",
      "government: 233 unkown words.\n",
      "editorial: 244 unkown words.\n",
      "learned: 943 unkown words.\n",
      "science_fiction: 26 unkown words.\n",
      "mystery: 146 unkown words.\n",
      "reviews: 219 unkown words.\n",
      "lore: 393 unkown words.\n",
      "romance: 191 unkown words.\n",
      "religion: 70 unkown words.\n",
      "humor: 172 unkown words.\n",
      "fiction: 228 unkown words.\n",
      "news: 392 unkown words.\n",
      "belles_lettres: 793 unkown words.\n"
     ]
    }
   ],
   "source": [
    "for cat in test.keys():\n",
    "    tagged_words = tagger.tag([word for sent in test[cat] for (word, _) in sent])\n",
    "    print(\"{0}: {1} unkown words.\".format(cat, sum([1 for (_, tag) in tagged_words if tag == \"NONE\"])))"
   ]
  },
  {
   "cell_type": "markdown",
   "metadata": {
    "collapsed": true
   },
   "source": [
    "3.2 Using Entropy to Filter Affix Tagger"
   ]
  },
  {
   "cell_type": "code",
   "execution_count": 21,
   "metadata": {
    "collapsed": false
   },
   "outputs": [],
   "source": [
    "from math import log\n",
    "\n",
    "# length of suffix to map suffix->tag\n",
    "suffix_length = -2\n",
    "\n",
    "# get token's suffix \n",
    "def get_context(token):\n",
    "    return token[suffix_length:]\n",
    "\n",
    "def entropy(tag_fd):\n",
    "    total_occ = sum([occ for (_, occ) in tag_fd])\n",
    "    res = 0\n",
    "    for (_, occ) in tag_fd:\n",
    "        p = occ / total_occ\n",
    "        res -= p * log(p, 2)\n",
    "    return res\n",
    "\n",
    "def aff_train(tagged_corpus, cutoff=0):\n",
    "    \n",
    "    # Count how many times each tag occurs in each context.\n",
    "    fd = nltk.ConditionalFreqDist()\n",
    "    for sentence in tagged_corpus:\n",
    "        for (token, tag) in sentence:\n",
    "            context = get_context(token)\n",
    "            fd[context][tag] += 1\n",
    "    \n",
    "    context_to_tag = dict((word, fd[word].max()) for word in fd if entropy(fd[word].items()) < cutoff)\n",
    "    return context_to_tag\n",
    "    \n",
    "    "
   ]
  },
  {
   "cell_type": "markdown",
   "metadata": {},
   "source": [
    "Dividing the train set to train and developement:"
   ]
  },
  {
   "cell_type": "code",
   "execution_count": 22,
   "metadata": {
    "collapsed": false
   },
   "outputs": [],
   "source": [
    "ratio = 0.9\n",
    "opt_train = []\n",
    "opt_dev = []\n",
    "for sents in train.values():\n",
    "    train_size = int(ratio * len(sents))\n",
    "    opt_train += sents[:train_size]\n",
    "    opt_dev += sents[train_size:]"
   ]
  },
  {
   "cell_type": "markdown",
   "metadata": {},
   "source": [
    "Choosing cutoff's range"
   ]
  },
  {
   "cell_type": "code",
   "execution_count": 23,
   "metadata": {
    "collapsed": false,
    "scrolled": true
   },
   "outputs": [
    {
     "data": {
      "image/png": "[encoded data removed]",
      "text/plain": [
       "<matplotlib.figure.Figure at 0x7f50c6c83780>"
      ]
     },
     "metadata": {},
     "output_type": "display_data"
    }
   ],
   "source": [
    "import pylab\n",
    "from numpy import arange\n",
    "cutoffs = arange(0, 5, 0.5)\n",
    "pylab.plot(cutoffs, [len(aff_train(clean_train, cutoff)) for cutoff in cutoffs], '-bo')\n",
    "pylab.title('Model size vs. cutoff')\n",
    "pylab.xlabel('cutoff')\n",
    "pylab.ylabel('model size (number of words)')\n",
    "pylab.show()"
   ]
  },
  {
   "cell_type": "markdown",
   "metadata": {},
   "source": [
    "Affix tagging functions"
   ]
  },
  {
   "cell_type": "code",
   "execution_count": 24,
   "metadata": {
    "collapsed": false
   },
   "outputs": [],
   "source": [
    "counter = 0\n",
    "def aff_tag_one(token, context, backoff):\n",
    "    if token in context:\n",
    "        return token, context[get_context(token)]\n",
    "        \n",
    "    else:\n",
    "        return backoff.tag_one(token)\n",
    "\n",
    "def aff_tag(tokens, context, backoff):\n",
    "    return [aff_tag_one(token, context, backoff) for token in tokens]"
   ]
  },
  {
   "cell_type": "markdown",
   "metadata": {},
   "source": [
    "Optimizing cutoff value using opt_train and opt_dev"
   ]
  },
  {
   "cell_type": "code",
   "execution_count": 25,
   "metadata": {
    "collapsed": false
   },
   "outputs": [],
   "source": [
    "backoff = SimpleUnigramTagger(opt_train)\n",
    "opt_dev_clean = [word for sent in opt_dev for word in sent]\n",
    "size = len(opt_dev_clean)\n",
    "def opt_cutoff(cutoff):\n",
    "    context_to_tag = aff_train(opt_train, cutoff)\n",
    "    tagged = aff_tag(remove_tags(opt_dev_clean), context_to_tag, backoff)\n",
    "    error = 0\n",
    "    for i in range(len(opt_dev_clean)):\n",
    "        if tagged[i][1] != opt_dev_clean[i][1]:\n",
    "            error += 1\n",
    "    return error / size"
   ]
  },
  {
   "cell_type": "code",
   "execution_count": 26,
   "metadata": {
    "collapsed": true
   },
   "outputs": [],
   "source": [
    "cutoffs = arange(0, 2, 0.1)\n",
    "errors = [opt_cutoff(cutoff) for cutoff in cutoffs]"
   ]
  },
  {
   "cell_type": "code",
   "execution_count": 27,
   "metadata": {
    "collapsed": false
   },
   "outputs": [
    {
     "data": {
      "image/png": "[encoded data removed]",
      "text/plain": [
       "<matplotlib.figure.Figure at 0x7f50b46ec0f0>"
      ]
     },
     "metadata": {},
     "output_type": "display_data"
    },
    {
     "name": "stdout",
     "output_type": "stream",
     "text": [
      "Best cutoff: 0.2 with an accuracy of: 0.8699989408105688\n"
     ]
    }
   ],
   "source": [
    "pylab.plot(cutoffs, [1-error for error in errors], '-bo')\n",
    "pylab.title('Accuracy vs. cutoff')\n",
    "pylab.xlabel('cutoff')\n",
    "pylab.ylabel('Accuracy')\n",
    "pylab.show()\n",
    "print(\"Best cutoff: {0} with an accuracy of: {1}\".format(cutoffs[errors.index(min(errors))], 1-min(errors)))"
   ]
  },
  {
   "cell_type": "markdown",
   "metadata": {},
   "source": [
    "Comparing the models"
   ]
  },
  {
   "cell_type": "code",
   "execution_count": 28,
   "metadata": {
    "collapsed": false
   },
   "outputs": [
    {
     "name": "stdout",
     "output_type": "stream",
     "text": [
      "SimpleUnigramTagger evaluation: \n",
      "0.8815246419033747\n",
      "\n",
      "Affix with entropy evaluation: \n",
      "0.8815497568040451\n",
      "\n"
     ]
    }
   ],
   "source": [
    "unigram = SimpleUnigramTagger(train=clean_train)\n",
    "print(\"SimpleUnigramTagger evaluation: \\n{0}\\n\".format(unigram.evaluate(clean_test)))\n",
    "context_to_tag = aff_train(clean_train, 0.2)\n",
    "test_tagged_words = [tagged_word for sent in clean_test for tagged_word in sent]\n",
    "tagged = aff_tag(remove_tags(test_tagged_words), context_to_tag, unigram)\n",
    "error = 0\n",
    "for i in range(len(test_tagged_words)):\n",
    "    if tagged[i][1] != test_tagged_words[i][1]:\n",
    "        error += 1\n",
    "error = error / len(test_tagged_words)\n",
    "print(\"Affix with entropy evaluation: \\n{0}\\n\".format(1-error))"
   ]
  },
  {
   "cell_type": "markdown",
   "metadata": {},
   "source": [
    "Extracting good suffixes"
   ]
  },
  {
   "cell_type": "code",
   "execution_count": 29,
   "metadata": {
    "collapsed": false
   },
   "outputs": [
    {
     "name": "stdout",
     "output_type": "stream",
     "text": [
      "5%,rv,6',qw,uc,pH,-e,'',2',',OV,gd,HA,b-,yt,Ye,We,UC,UF,2s,3d,.0,6-,mg,Cr,z',sz,CH,RL,Q3,/,xi,u.,VA,k.,BO,,,iH,aj,0%,!,``,jK,V.,o-,zg,/g,c),I.,k',f,Ax,--,ES,03,mc,VC,dw,MM,'a,SF,2%,zq,ih,C',Ku,Us,y,bn,IB,hE,DC,cu,NC,US,0,73,At,C.,gr,NS,HC,'y,If,kt,FN,SO,ja,He,zt,-r,GE,dl,.',jA,CU,YJ,7A,IU,NW,Am,GS,T.,l,-m,GM,J.,wy,RF,59,az,PA,sn,9),$4,?',I,LH,MF,2H,/9,Se,$7,o,Wu,c',*b,LA,yg,Or,N',IN,-T,DU,It,OW,3M,-p,Ti,Ed,PQ,kh,/7,1b,MA,EA,WA,$9,;,-I,Po,ho,VP,bl,NP,EG,XG,l/,t},-9,lh,Ai,Jo,93,-c,AN,ez,tm,SN,G.,pd,YM,$8,5o,41,A5,yb,wo,0A,Si,-P,EP,4',aq,jB,a,yy,cm,SM,/8,d-,FM,PH,'k,4%,SR,DR,g-,MU,md,Eq,79,DW,-F,Io,gm,OM,Oh,x,Pm,MS,SD,if,wh,rz,9b,0s,2C,TC,t-,uz,TH,/l,6),CB,sl,-E,By,+,8%,Fe,IO,Cs,/4,OH,t,58,fu,BE,i,BW,pm,Da,-d,4C,SU,9%,sw,uu,54,w,IQ,nq,F.,EC,j),H6,vp,h,CO,IS,UK,b/,a),c-,QU,'m,$3,hf,9N,.,RB,0-,4),MT,yc,XF,H.,5-,M,6A,-8,1),mV,1a,oz,w-,Um,PW,SE,ID,/2,AS,wr,vt,wi,6a,y-,rh,Ad,rx,T},1M,fo,tl,-0,BI,VE,KK,hd,b,FA,PR,/c,64,6%,0Y,3%,NT,3A,e,JA,IC,nz,4-,cz,ml,1%,uf,LN,Q.,96,7b,g,En,vi,8e,Af,j.,D',In,hk,fi,P',Co,m',EE,GF,7%,YU,TU,9',sr,r/,a!,D8,HR,DF,7e,TF,/1,ju,Bo,?,ED,yi,mu,IR\n"
     ]
    }
   ],
   "source": [
    "print(\",\".join(context_to_tag.keys()))"
   ]
  },
  {
   "cell_type": "markdown",
   "metadata": {},
   "source": [
    "### Discussion:\n",
    "\n",
    "Does entropy filtering improve the accuracy of the AffixTagger?\n",
    "As seen above, entropy filtering did not improve the unigram tagger's accuracy. Tests were done on suffixes of length 3 and 2. Only 2-long suffixes improved accuracy by a negligent sum.\n",
    "\n",
    "How do you determine the range of values to test for the cutoff?\n",
    "As seen in the graph above, the range which affected the context size was chosen as the tested cutoff range. At the beginning, the range was 0..3.5, but it was then reduced to 0..2 since the error was monotonously rising after roughly cutoff=6.\n",
    "\n",
    "Is the accuracy value evolving in a predictable manner as the cutoff varies?\n",
    "As the cutoff increases, accuracy reduces. As the cutoff increases, the model allows more suffix tagging, and relies less on the unigram tagger. In this particular case, the unigram tagging seems preferable to suffix tagging, and thus the trend makes sense. Perhaps on a larger database, suffix tagging would have shown better results. \n",
    "\n",
    "Describe the list of suffixes that are good tag predictors -- are you surprised by what you observe?\n",
    "Many 2-letter words (or 2-letter initials) were chosen as good predictors, such as: 'pH', 'FM', 'AM', 'UK', 'Fe'. Suffixes like 'ed, 'es', 'ng', were not included. That means that at least on this corpus, the more general suffixes are rather ambigous. "
   ]
  },
  {
   "cell_type": "markdown",
   "metadata": {},
   "source": [
    "4. Fine-Grained Accuracy and Error Analysis\n",
    "\n",
    "4.1 Per Tag Precision and Recall"
   ]
  },
  {
   "cell_type": "markdown",
   "metadata": {},
   "source": [
    "Generate train/test (same as 3)"
   ]
  },
  {
   "cell_type": "code",
   "execution_count": 127,
   "metadata": {
    "collapsed": true
   },
   "outputs": [],
   "source": [
    "import nltk\n",
    "from functools import reduce\n",
    "from nltk.corpus import brown \n",
    "\n",
    "def category_split(sents, ratio):\n",
    "    size = int(len(sents) * ratio)\n",
    "    return sents[:size], sents[size:]\n",
    "\n",
    "def split(corpus, ratio=0.9):\n",
    "    train = []\n",
    "    test = []\n",
    "    for cat in corpus.categories():\n",
    "        cat_train_test = category_split(corpus.tagged_sents(categories=cat,tagset='universal'), ratio)\n",
    "        #train = train+cat_train_test[0]\n",
    "        train.extend(cat_train_test[0])\n",
    "        test.extend(cat_train_test[1])\n",
    "        \n",
    "    return train, test"
   ]
  },
  {
   "cell_type": "markdown",
   "metadata": {},
   "source": [
    "Microevaluate: evaluate tagger based on test corpus. Returns and object Eval  "
   ]
  },
  {
   "cell_type": "code",
   "execution_count": 148,
   "metadata": {
    "collapsed": true
   },
   "outputs": [],
   "source": [
    "from collections import defaultdict, Counter\n",
    "\n",
    "class Eval:\n",
    "   \n",
    "   def __init__(self):\n",
    "     x = 0\n",
    "      \n",
    "   def setTP(self,tp):\n",
    "     self.tp = tp\n",
    "   \n",
    "   def setFP(self,fp):\n",
    "     self.fp = fp\n",
    "   \n",
    "   def setRecall(self,recall):\n",
    "     self.recall = recall\n",
    "    \n",
    "   def setFN(self,fn):\n",
    "     self.fn = fn\n",
    "        \n",
    "   def setPrecision(self,precision):\n",
    "     self.precision = precision\n",
    "    \n",
    "   def setF_Measure(self,fMeasure):\n",
    "     self.f_Measure = fMeasure\n",
    "        \n",
    "   def getTP(self):\n",
    "     return self.tp\n",
    "   \n",
    "   def getFP(self):\n",
    "     return self.fp\n",
    "   \n",
    "   def getRecall(self):\n",
    "     return self.recall \n",
    "    \n",
    "   def getFN(self):\n",
    "     return self.fn \n",
    "        \n",
    "   def getPrecision(self):\n",
    "     return self.precision \n",
    "    \n",
    "   def getF_Measure(self):\n",
    "     return self.f_Measure \n",
    "\n",
    "   def displayeEval(self):\n",
    "      print (\"Name : \",str(self.x))\n",
    "\n",
    "def microEvaluate(self,testCorpus):\n",
    "# this function returns TP, FP, FN, Recall, Precision, F_Measure for a tagger based on testCorpus\n",
    "# call this function: eval = microEvaluate(testCorpus)\n",
    "# to access each measure use eval.getTP(). This returns a dictionary of tag:value\n",
    "\n",
    "    gold_tags = []\n",
    "    for sent in test: \n",
    "        for tuple in sent:\n",
    "          gold_tags.append(tuple[1])\n",
    "          #gold_tags.append(tuple)\n",
    "    \n",
    "    sentt = []\n",
    "    for sent in test:\n",
    "        text = []\n",
    "        for tuple in sent:\n",
    "            text.append(str(tuple[0]))\n",
    "            sentt.append(text)   \n",
    "          \n",
    "\n",
    "    res = []\n",
    "    for sent in sentt:\n",
    "        #tmp = tagger.tag(nltk.word_tokenize(sent))\n",
    "        tmp = self.tag(sent)                \n",
    "        for ttmp in tmp:\n",
    "            #res.append(ttmp)\n",
    "            res.append(ttmp[1])\n",
    "\n",
    "    TPtags = defaultdict(int)\n",
    "    FPtags = defaultdict(int)\n",
    "    FNtags = defaultdict(int)\n",
    "\n",
    "    #print(res[0])\n",
    "    #FNtags['DET']+=1\n",
    "\n",
    "    #leng = len(gold_tags)\n",
    "    #print(leng)\n",
    "    #lenr = len(res)\n",
    "    #print(lenr)\n",
    "    for i in range(0,lenr):\n",
    "        if (res[i]!=gold_tags[i]):\n",
    "            FPtags[res[i]] +=1\n",
    "            FNtags[gold_tags[i]] += 1\n",
    "        else:\n",
    "            TPtags[gold_tags[i]] += 1\n",
    "\n",
    "    alldict =  [FNtags, TPtags, FPtags]\n",
    "    allkey = set().union(*alldict)\n",
    "\n",
    "\n",
    "    Precision = defaultdict(int)\n",
    "    Recall = defaultdict(int)\n",
    "    F_Measure = defaultdict(int)\n",
    "\n",
    "    for key in allkey:\n",
    "        if (not (key in FPtags)):\n",
    "            FPtags[key]=0\n",
    "        if (not(key in FNtags)):\n",
    "            FNtags[key]=0\n",
    "        if (not(key in TPtags)):\n",
    "            TPtags[key]=0\n",
    "\n",
    "    for key in allkey:\n",
    "        if ((TPtags[key]>0)|(FPtags[key]>0)):\n",
    "            Precision[key] = TPtags[key]/(TPtags[key]+FPtags[key])\n",
    "        else:\n",
    "            Precision[key] = 2\n",
    "        if ((TPtags[key]>0)|(FNtags[key]>0)):\n",
    "            Recall[key] = TPtags[key]/(TPtags[key]+FNtags[key])\n",
    "        else:\n",
    "            Recall[key] = 2\n",
    "\n",
    "        if ((Recall[key]==2)|(Precision[key]==2)):\n",
    "            F_Measure[key] = 2\n",
    "        else:\n",
    "            if ((Recall[key]==0)&(Precision[key]==0)):\n",
    "                F_Measure[key] = 2\n",
    "            else:\n",
    "                F_Measure[key]= 2*Recall[key]*Precision[key]/(Recall[key]+Precision[key])\n",
    "                \n",
    "    final = Eval()\n",
    "    final.setTP(TPtags)\n",
    "    final.setFP(FPtags)\n",
    "    final.setFN(FNtags)\n",
    "    final.setRecall(Precision)\n",
    "    final.setPrecision(Recall)\n",
    "    final.setF_Measure(F_Measure)\n",
    "\n",
    "    return final\n",
    "\n",
    "nltk.TaggerI.microEvaluate = microEvaluate\n",
    "     "
   ]
  },
  {
   "cell_type": "markdown",
   "metadata": {},
   "source": [
    "Call MicroEvaluate to evaluate the tagger using the brown test set comparing to gold tagging. "
   ]
  },
  {
   "cell_type": "code",
   "execution_count": 149,
   "metadata": {
    "collapsed": false
   },
   "outputs": [],
   "source": [
    "train, test = split(brown)\n",
    "\n",
    "tagger = nltk.RegexpTagger(\n",
    "    [(r'^-?[0-9]+(.[0-9]+)?$', 'NUM'),   # cardinal numbers\n",
    "     (r'(The|the|A|a|An|an)$', 'DET'),   # articles\n",
    "     (r'.*able$', 'ADJ'),                # adjectives\n",
    "     (r'.*ness$', 'NOUN'),                # nouns formed from adjectives  \n",
    "     (r'.*ly$', 'ADV'),                  # adverbs\n",
    "     (r'.*s$', 'NOUN'),                  # plural nouns  \n",
    "     (r'.*ing$', 'VERB'),                # gerunds   \n",
    "     (r'.*ed$', 'VERB'),                 # past tense verbs\n",
    "     (r'.*', 'NOUN')                      # nouns (default)\n",
    "    ])\n",
    "\n",
    "for n in range(1,3):  # start at unigrams (1) up to and including trigrams (3)\n",
    "    tagger = NgramTagger(n, train, backoff=tagger)\n",
    "    \n",
    "eval = tagger.microEvaluate(test)\n",
    "\n",
    "recall = eval.getRecall()\n"
   ]
  },
  {
   "cell_type": "code",
   "execution_count": 133,
   "metadata": {
    "collapsed": false
   },
   "outputs": [
    {
     "name": "stdout",
     "output_type": "stream",
     "text": [
      "     |                             C           N     N           P           V       |\n",
      "     |           A     A     A     O     D     O     O     N     R     P     E       |\n",
      "     |           D     D     D     N     E     N     U     U     O     R     R       |\n",
      "     |     .     J     P     V     J     T     E     N     M     N     T     B     X |\n",
      "-----+-------------------------------------------------------------------------------+\n",
      "   . |    <.>    .     .     .     .     . 15330     .     .     .     .     .     . |\n",
      " ADJ |     .    <.>    .     .     .     .  8612     .     .     .     .     .     . |\n",
      " ADP |     .     .    <.>    .     .     . 14900     .     .     .     .     .     . |\n",
      " ADV |     .     .     .    <.>    .     .  5847     .     .     .     .     .     . |\n",
      "CONJ |     .     .     .     .    <.>    .  3980     .     .     .     .     .     . |\n",
      " DET |     .     .     .     .     .    <.>13989     .     .     .     .     .     . |\n",
      "NONE |     .     .     .     .     .     .    <.>    .     .     .     .     .     . |\n",
      "NOUN |     .     .     .     .     .     . 28383    <.>    .     .     .     .     . |\n",
      " NUM |     .     .     .     .     .     .  1527     .    <.>    .     .     .     . |\n",
      "PRON |     .     .     .     .     .     .  4833     .     .    <.>    .     .     . |\n",
      " PRT |     .     .     .     .     .     .  3096     .     .     .    <.>    .     . |\n",
      "VERB |     .     .     .     .     .     . 18717     .     .     .     .    <.>    . |\n",
      "   X |     .     .     .     .     .     .   237     .     .     .     .     .    <.>|\n",
      "-----+-------------------------------------------------------------------------------+\n",
      "(row = reference; col = test)\n",
      "\n"
     ]
    }
   ],
   "source": [
    "#to be depricated\n",
    "\n",
    "train, test = split(brown)\n",
    "#clean_train = [sents for sents in train]\n",
    "#clean_test = [sents for sents in test]\n",
    "\n",
    "#print(type(train))\n",
    "#print(train[:3])\n",
    "#print(type(clean_train))\n",
    "#print(clean_train[:3])\n",
    "#.values())  \n",
    "\n",
    "gold_tags = []\n",
    "for sent in test: \n",
    "    for tuple in sent:\n",
    "          gold_tags.append(tuple[1])\n",
    "          #gold_tags.append(tuple)\n",
    "       \n",
    "\n",
    "#tagger = SimpleUnigramTagger(train=train)\n",
    "tagger = nltk.RegexpTagger(\n",
    "    [(r'^-?[0-9]+(.[0-9]+)?$', 'NUM'),   # cardinal numbers\n",
    "     (r'(The|the|A|a|An|an)$', 'DET'),   # articles\n",
    "     (r'.*able$', 'ADJ'),                # adjectives\n",
    "     (r'.*ness$', 'NOUN'),                # nouns formed from adjectives  \n",
    "     (r'.*ly$', 'ADV'),                  # adverbs\n",
    "     (r'.*s$', 'NOUN'),                  # plural nouns  \n",
    "     (r'.*ing$', 'VERB'),                # gerunds   \n",
    "     (r'.*ed$', 'VERB'),                 # past tense verbs\n",
    "     (r'.*', 'NOUN')                      # nouns (default)\n",
    "    ])\n",
    "\n",
    "for n in range(1,3):  # start at unigrams (1) up to and including trigrams (3)\n",
    "    tagger = NgramTagger(n, train, backoff=tagger)\n",
    "    \n",
    "clean_test = []\n",
    "\n",
    "sentt = []\n",
    "for sent in test:\n",
    "    text = []\n",
    "    for tuple in sent:\n",
    "        text.append(str(tuple[0]))\n",
    "    #tmps = \" \".join(str(x) for x in text)\n",
    "    #tmps = convertToString(tmp,\" \")\n",
    "    #sentt.append(tmps)\n",
    "    sentt.append(text)\n",
    "    \n",
    "#print(type(sentt))\n",
    "#print(sentt[:3])       \n",
    "\n",
    "res = []\n",
    "for sent in sentt:\n",
    "    #tmp = tagger.tag(nltk.word_tokenize(sent))\n",
    "    tmp = tagger.tag(sent)                \n",
    "    for ttmp in tmp:\n",
    "        #res.append(ttmp)\n",
    "        res.append(ttmp[1])\n",
    "    \n",
    "#print(type(res))\n",
    "#print(res[:20])\n",
    "#print(type(gold_tags))\n",
    "#print(gold_tags[:20])\n",
    "#test_tags = [tag for sent in clean_test\n",
    "#    for (word, tag) in tagger.tag(sent)]\n",
    "\n",
    "\n",
    "\n",
    "#print(nltk.ConfusionMatrix(gold_tags, test_tags))"
   ]
  },
  {
   "cell_type": "markdown",
   "metadata": {},
   "source": [
    "Calculate TP, FP, FN, Precision, Recall and F-Measure"
   ]
  },
  {
   "cell_type": "code",
   "execution_count": 134,
   "metadata": {
    "collapsed": false
   },
   "outputs": [],
   "source": [
    "#to be depricated\n",
    "from collections import defaultdict, Counter\n",
    "\n",
    "TPtags = defaultdict(int)\n",
    "FPtags = defaultdict(int)\n",
    "FNtags = defaultdict(int)\n",
    "\n",
    "#print(res[0])\n",
    "#FNtags['DET']+=1\n",
    "\n",
    "#leng = len(gold_tags)\n",
    "#print(leng)\n",
    "#lenr = len(res)\n",
    "#print(lenr)\n",
    "for i in range(0,lenr):\n",
    "    if (res[i]!=gold_tags[i]):\n",
    "        FPtags[res[i]] +=1\n",
    "        FNtags[gold_tags[i]] += 1\n",
    "    else:\n",
    "        TPtags[gold_tags[i]] += 1\n",
    "        \n",
    "alldict =  [FNtags, TPtags, FPtags]\n",
    "allkey = set().union(*alldict)\n",
    "\n",
    "\n",
    "Precision = defaultdict(int)\n",
    "Recall = defaultdict(int)\n",
    "F_Measure = defaultdict(int)\n",
    "\n",
    "for key in allkey:\n",
    "    if (not (key in FPtags)):\n",
    "        FPtags[key]=0\n",
    "    if (not(key in FNtags)):\n",
    "        FNtags[key]=0\n",
    "    if (not(key in TPtags)):\n",
    "        TPtags[key]=0\n",
    "        \n",
    "for key in allkey:\n",
    "    if ((TPtags[key]>0)|(FPtags[key]>0)):\n",
    "        Precision[key] = TPtags[key]/(TPtags[key]+FPtags[key])\n",
    "    else:\n",
    "        Precision[key] = 2\n",
    "    if ((TPtags[key]>0)|(FNtags[key]>0)):\n",
    "        Recall[key] = TPtags[key]/(TPtags[key]+FNtags[key])\n",
    "    else:\n",
    "        Recall[key] = 2\n",
    "        \n",
    "    if ((Recall[key]==2)|(Precision[key]==2)):\n",
    "        F_Measure[key] = 2\n",
    "    else:\n",
    "        F_Measure[key]= 2*Recall[key]*Precision[key]/(Recall[key]+Precision[key])\n",
    "        \n",
    "\n",
    "#print(FPtags)\n",
    "#print(FNtags)\n",
    "#print(TPtags)"
   ]
  },
  {
   "cell_type": "code",
   "execution_count": 135,
   "metadata": {
    "collapsed": false
   },
   "outputs": [
    {
     "name": "stdout",
     "output_type": "stream",
     "text": [
      "Recall lowest universal tags X 0.1518987341772152 ADJ 0.8637947050627032 ADV 0.8960150504532238\n",
      "Precision lowest universal tags PRT 0.6907829534192269 X 0.75 ADV 0.9338680926916221\n",
      "F-Measure lowest universal tags X 0.25263157894736843 PRT 0.7818283791362871 ADJ 0.8981587684877753\n"
     ]
    }
   ],
   "source": [
    "#to be depricated\n",
    "RecallS = sorted(Recall, key=Recall.get)\n",
    "PrecisionS = sorted(Precision, key=Precision.get)\n",
    "F_MeasureS = sorted(F_Measure, key=F_Measure.get)\n",
    "\n",
    "print(\"Recall lowest universal tags \"+str(RecallS[0])+\" \"+str(Recall[RecallS[0]])+\" \"+str(RecallS[1])+\" \"+str(Recall[RecallS[1]])+\" \"+str(RecallS[2])+\" \"+str(Recall[RecallS[2]]))\n",
    "print(\"Precision lowest universal tags \"+str(PrecisionS[0])+\" \"+str(Precision[PrecisionS[0]])+\" \"+str(PrecisionS[1])+\" \"+str(Precision[PrecisionS[1]])+\" \"+str(PrecisionS[2])+\" \"+str(Precision[PrecisionS[2]]))\n",
    "print(\"F-Measure lowest universal tags \"+str(F_MeasureS[0])+\" \"+str(F_Measure[F_MeasureS[0]])+\" \"+str(F_MeasureS[1])+\" \"+str(F_Measure[F_MeasureS[1]])+\" \"+str(F_MeasureS[2])+\" \"+str(F_Measure[F_MeasureS[2]]))\n"
   ]
  },
  {
   "cell_type": "markdown",
   "metadata": {},
   "source": [
    "Discussion\n",
    "\n",
    "Which tags are most difficult in the universal tagset? Explain why with linguistic examples.\n",
    "\n",
    "As presented by the image below (test results on the brown corpus) the X and PRT tags are more difficult to tag. \n",
    "\n",
    "<img src=\"files/image.png\">"
   ]
  },
  {
   "cell_type": "markdown",
   "metadata": {
    "collapsed": true
   },
   "source": [
    "### 5 Averaged Perceptron"
   ]
  },
  {
   "cell_type": "markdown",
   "metadata": {},
   "source": [
    "1. The Averaged Perceptron algorithm is an online classification algorithm. The term online means that the algorithm updates its weights according to new examples, unlike our UnigramTagger, which uses the train set as a whole to train. \n",
    "    - Training:\n",
    "For each new train example, the model verifies the scalar product of its weights vector and the example multiplied by the example's tag is positive (which means the scalar product and the tag are of the same sign). If it is so, it updates nothing. If not, the weights are updated so that the new scalar product time the tag is higher than the previous one.  \n",
    "    - Testing/Tagging:\n",
    "Each test example is tagged accoring to the sign of the scalar product of the model's weights vector and the example."
   ]
  },
  {
   "cell_type": "markdown",
   "metadata": {},
   "source": [
    "5.2 Measuring nltk.PerceptronTagger's performance"
   ]
  },
  {
   "cell_type": "code",
   "execution_count": null,
   "metadata": {
    "collapsed": true
   },
   "outputs": [],
   "source": [
    "train, test = stratified_split(brown)\n",
    "clean_train = [sent for sents in train.values() for sent in sents]\n",
    "clean_test = [sent for sents in test.values() for sent in sents]\n",
    "perc_tagger = nltk.PerceptronTagger(load=False)\n",
    "perc_tagger.train(clean_train)"
   ]
  },
  {
   "cell_type": "code",
   "execution_count": null,
   "metadata": {
    "collapsed": true
   },
   "outputs": [],
   "source": []
  }
 ],
 "metadata": {
  "anaconda-cloud": {},
  "kernelspec": {
   "display_name": "Python [default]",
   "language": "python",
   "name": "python3"
  },
  "language_info": {
   "codemirror_mode": {
    "name": "ipython",
    "version": 3
   },
   "file_extension": ".py",
   "mimetype": "text/x-python",
   "name": "python",
   "nbconvert_exporter": "python",
   "pygments_lexer": "ipython3",
   "version": "3.5.2"
  }
 },
 "nbformat": 4,
 "nbformat_minor": 0
}
