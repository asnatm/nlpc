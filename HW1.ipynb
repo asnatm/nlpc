{
 "cells": [
  {
   "cell_type": "markdown",
   "metadata": {},
   "source": [
    "# Fetching and Cleaning HTML Text"
   ]
  },
  {
   "cell_type": "markdown",
   "metadata": {},
   "source": [
    "### NLP 2017 - HW1"
   ]
  },
  {
   "cell_type": "markdown",
   "metadata": {},
   "source": [
    "### Asi Messica and Eran Barash"
   ]
  },
  {
   "cell_type": "markdown",
   "metadata": {
    "collapsed": false
   },
   "source": [
    "1. Data exploration\n",
    "1.1 Manual tagging\n"
   ]
  },
  {
   "cell_type": "code",
   "execution_count": 16,
   "metadata": {
    "collapsed": false
   },
   "outputs": [],
   "source": [
    "sentence1 = \"One of the most basic and most useful task when processing text is to tokenize each word separately and label each word according to its most likely part of speech.\"\n",
    "sentence1_manual_tagging = \"One/DET of/ADP the/DET most/ basic/ and/ most/ useful/ task/NOUN when/ processing/VERB text/NOUN is/ to/ tokenize/VERB each/ word/NOUN seaperately/ and/ label/VERB each/ word/NOUN according/ to/ its/ most/ likely/ part/ of/ speech/ \""
   ]
  },
  {
   "cell_type": "code",
   "execution_count": 20,
   "metadata": {
    "collapsed": true
   },
   "outputs": [],
   "source": [
    "sentence1_manual_tagging =nltk.pos_tag(nltk.word_tokenize(sentence1))"
   ]
  },
  {
   "cell_type": "code",
   "execution_count": 21,
   "metadata": {
    "collapsed": false
   },
   "outputs": [
    {
     "name": "stdout",
     "output_type": "stream",
     "text": [
      "[('One', 'CD'), ('of', 'IN'), ('the', 'DT'), ('most', 'RBS'), ('basic', 'JJ'), ('and', 'CC'), ('most', 'JJS'), ('useful', 'JJ'), ('task', 'NN'), ('when', 'WRB'), ('processing', 'VBG'), ('text', 'NN'), ('is', 'VBZ'), ('to', 'TO'), ('tokenize', 'VB'), ('each', 'DT'), ('word', 'NN'), ('separately', 'RB'), ('and', 'CC'), ('label', 'VB'), ('each', 'DT'), ('word', 'NN'), ('according', 'VBG'), ('to', 'TO'), ('its', 'PRP$'), ('most', 'RBS'), ('likely', 'JJ'), ('part', 'NN'), ('of', 'IN'), ('speech', 'NN'), ('.', '.')]\n"
     ]
    }
   ],
   "source": [
    "print(sentence1_manual_tagging)"
   ]
  },
  {
   "cell_type": "markdown",
   "metadata": {
    "collapsed": true
   },
   "source": [
    "1.2 Gathering and Cleaning Up Data"
   ]
  },
  {
   "cell_type": "code",
   "execution_count": 1,
   "metadata": {
    "collapsed": false
   },
   "outputs": [
    {
     "name": "stdout",
     "output_type": "stream",
     "text": [
      "https://en.wikipedia.org/wiki/Nobel_Prize\n",
      "https://www.facebook.com/nobelprize/\n",
      "https://www.youtube.com/user/thenobelprize\n",
      "https://en.wikipedia.org/wiki/Nobel_Prize\n",
      "https://www.nobelprize.org/\n",
      "http://www.businessinsider.com/who-will-win-nobel-prize-in-physics-for-gravitational-waves-2016-2\n",
      "https://en.wikipedia.org/wiki/List_of_Nobel_laureates_in_Physics\n",
      "http://iaskracker.com/5-things-to-know-about-the-nobel-prize/\n",
      "http://www.bbc.com/news/world-europe-38280402\n",
      "https://sweden.se/society/the-nobel-prize-awarding-great-minds/\n",
      "http://www.nytimes.com/topic/subject/nobel-prizes\n",
      "http://indianexpress.com/article/world/nobel-prize-2016-bob-dylan-juan-manuel-santos-here-is-the-list-of-winners-and-their-work-4420869/\n",
      "http://www.independent.co.uk/arts-entertainment/music/news/bob-dylan-nobel-prize-acceptance-speech-read-a7468096.html\n"
     ]
    }
   ],
   "source": [
    "import google3\n",
    "import justext\n",
    "import requests\n",
    "import re\n",
    "import nltk\n",
    "\n",
    "search = \"nobel prize\"\n",
    "filename = \"cleanTxt\"\n",
    "links = google3.getGoogleResults(search)\n",
    "i=0\n",
    "cutOff = 20\n",
    "max = 10\n",
    "for url in links:\n",
    "    if (i<max):\n",
    "            try:\n",
    "                print(url)\n",
    "                html = requests.get(url).text\n",
    "            except:\n",
    "                print(\"error\") \n",
    "            html = re.sub(\"[\\r\\n]+\", \"\\n\", html)\n",
    "            html = re.sub(\"[\\n]+\", \"\\n\", html)\n",
    "            html = re.sub(\"[\\t, ]+\",\" \", html)\n",
    "            html = re.sub(\"[\\t, ]+\",\"``\", html)\n",
    "            raw = google3.cleanHtml(html)\n",
    "            if (raw != ''):\n",
    "                pfileName = filename + str(i) + \".txt\"\n",
    "                print(\"raw \"+str(i)+raw+\"\\n\")\n",
    "                google3.PrintFile(raw,pfileName)\n",
    "                i+=1\n",
    "\n"
   ]
  },
  {
   "cell_type": "code",
   "execution_count": 4,
   "metadata": {
    "collapsed": false
   },
   "outputs": [
    {
     "ename": "NameError",
     "evalue": "name 'filename' is not defined",
     "output_type": "error",
     "traceback": [
      "\u001b[0;31m---------------------------------------------------------------------------\u001b[0m",
      "\u001b[0;31mNameError\u001b[0m                                 Traceback (most recent call last)",
      "\u001b[0;32m<ipython-input-4-d9b37f06746d>\u001b[0m in \u001b[0;36m<module>\u001b[0;34m()\u001b[0m\n\u001b[1;32m      1\u001b[0m \u001b[0;31m#read and tag 20 senteces from one file\u001b[0m\u001b[0;34m\u001b[0m\u001b[0;34m\u001b[0m\u001b[0m\n\u001b[1;32m      2\u001b[0m \u001b[0;34m\u001b[0m\u001b[0m\n\u001b[0;32m----> 3\u001b[0;31m \u001b[0mpfileName\u001b[0m \u001b[0;34m=\u001b[0m \u001b[0;34m\".//Data//\"\u001b[0m\u001b[0;34m+\u001b[0m\u001b[0mfilename\u001b[0m\u001b[0;34m+\u001b[0m \u001b[0;34m\"0\"\u001b[0m \u001b[0;34m+\u001b[0m \u001b[0;34m\".txt\"\u001b[0m\u001b[0;34m\u001b[0m\u001b[0m\n\u001b[0m\u001b[1;32m      4\u001b[0m \u001b[0;32mwith\u001b[0m \u001b[0mopen\u001b[0m\u001b[0;34m(\u001b[0m\u001b[0mpfileName\u001b[0m\u001b[0;34m)\u001b[0m \u001b[0;32mas\u001b[0m \u001b[0mf\u001b[0m\u001b[0;34m:\u001b[0m\u001b[0;34m\u001b[0m\u001b[0m\n\u001b[1;32m      5\u001b[0m     \u001b[0;32mfor\u001b[0m \u001b[0mline\u001b[0m \u001b[0;32min\u001b[0m \u001b[0mf\u001b[0m\u001b[0;34m:\u001b[0m\u001b[0;34m\u001b[0m\u001b[0m\n",
      "\u001b[0;31mNameError\u001b[0m: name 'filename' is not defined"
     ]
    }
   ],
   "source": [
    "#read and tag 20 senteces from one file   \n",
    "\n",
    "pfileName = \".//Data//\"+filename+ \"0\" + \".txt\"\n",
    "with open(pfileName) as f:\n",
    "    for line in f:\n",
    "        print(line)\n",
    "        tokens = nltk.word_tokenize(line)\n",
    "        print(tokens)\n",
    "        tagging = nltk.pos_tag(tokens,tagset='universal')\n",
    "        print(tagging)\n",
    "        \n",
    "        \n",
    "\n",
    "#print(text)"
   ]
  },
  {
   "cell_type": "markdown",
   "metadata": {
    "collapsed": true
   },
   "source": [
    "1.3 Gathering Basic Statistics"
   ]
  },
  {
   "cell_type": "code",
   "execution_count": 17,
   "metadata": {
    "collapsed": false,
    "scrolled": false
   },
   "outputs": [
    {
     "data": {
      "image/png": "[encoded data removed]",
      "text/plain": [
       "<matplotlib.figure.Figure at 0x7f8ad0c7c518>"
      ]
     },
     "metadata": {},
     "output_type": "display_data"
    }
   ],
   "source": [
    "import nltk\n",
    "from nltk.corpus import brown\n",
    "import pylab\n",
    "\n",
    "cfd = nltk.ConditionalFreqDist(brown.tagged_words())\n",
    "size2words = nltk.Index((len(tags), word) for (word, tags) in cfd.items())\n",
    "sizes = pylab.arange(1, 12)\n",
    "\n",
    "pylab.plot(sizes, [len(size2words[size]) for size in sizes], '-bo')\n",
    "pylab.title('Number of words with a given number of tags')\n",
    "pylab.xlabel('Number of tags')\n",
    "pylab.ylabel('Number of words')\n",
    "pylab.show()"
   ]
  },
  {
   "cell_type": "markdown",
   "metadata": {},
   "source": [
    "2. Stratified Test/Train Sets\n",
    "'train' and 'test' are dictionaries of category: tagged_sents. This was done inorder to simplify follwing tasks. "
   ]
  },
  {
   "cell_type": "code",
   "execution_count": 76,
   "metadata": {
    "collapsed": true
   },
   "outputs": [],
   "source": [
    "import nltk\n",
    "from functools import reduce\n",
    "from nltk.corpus import brown \n",
    "\n",
    "def category_split(sents, ratio):\n",
    "    size = int(len(sents) * ratio)\n",
    "    return sents[:size], sents[size:]\n",
    "\n",
    "def stratified_split(corpus, ratio=0.9):\n",
    "    train = {}\n",
    "    test = {}\n",
    "    for cat in corpus.categories():\n",
    "        cat_train_test = category_split(corpus.tagged_sents(categories=cat), ratio)\n",
    "        train[cat] = cat_train_test[0]\n",
    "        test[cat] = cat_train_test[1]\n",
    "    return train, test"
   ]
  },
  {
   "cell_type": "code",
   "execution_count": 104,
   "metadata": {
    "collapsed": false,
    "scrolled": true
   },
   "outputs": [],
   "source": [
    "train, test = stratified_split(brown)"
   ]
  },
  {
   "cell_type": "markdown",
   "metadata": {},
   "source": [
    "3. Unigram"
   ]
  },
  {
   "cell_type": "markdown",
   "metadata": {},
   "source": [
    "3.1.1 Class SimpleUnigramTagger"
   ]
  },
  {
   "cell_type": "code",
   "execution_count": 80,
   "metadata": {
    "collapsed": false
   },
   "outputs": [],
   "source": [
    "import nltk\n",
    "from collections import defaultdict\n",
    "class SimpleUnigramTagger(nltk.TaggerI):\n",
    "    def __init__(self, train):\n",
    "        self._train(train)\n",
    "        \n",
    "    def _train(self, tagged_corpus):\n",
    "        tagged_words = [tagged_word for sent in tagged_corpus for tagged_word in sent]\n",
    "        cfd = nltk.ConditionalFreqDist(tagged_words)\n",
    "        self._likely_tags = defaultdict(lambda: 'NONE')\n",
    "        for word in cfd:\n",
    "            self._likely_tags[word] = cfd[word].max()\n",
    "        \n",
    "    def tag(self, tokens):\n",
    "        return [(word, self._likely_tags[word]) for word in tokens]\n"
   ]
  },
  {
   "cell_type": "markdown",
   "metadata": {},
   "source": [
    "3.1.2 SimpleUnigramTagger and nltk.UnigramTagger evalution comparison"
   ]
  },
  {
   "cell_type": "code",
   "execution_count": 105,
   "metadata": {
    "collapsed": false
   },
   "outputs": [
    {
     "name": "stdout",
     "output_type": "stream",
     "text": [
      "SimpleUnigramTagger evaluation: \n",
      "0.8817004462080685\n",
      "\n",
      "nltk.UnigramTagger evaluation: \n",
      "0.8817004462080685\n"
     ]
    }
   ],
   "source": [
    "from nltk.corpus import brown\n",
    "clean_train = [sent for sents in train.values() for sent in sents]\n",
    "clean_test = [sent for sents in test.values() for sent in sents]\n",
    "tagger = SimpleUnigramTagger(train=clean_train)\n",
    "nltk_tagger = nltk.UnigramTagger(train=clean_train)\n",
    "\n",
    "print(\"SimpleUnigramTagger evaluation: \\n{0}\\n\".format(tagger.evaluate(clean_test)))\n",
    "print(\"nltk.UnigramTagger evaluation: \\n{0}\".format(nltk_tagger.evaluate(clean_test)))"
   ]
  },
  {
   "cell_type": "markdown",
   "metadata": {},
   "source": [
    "3.1.3 Known and unknown words"
   ]
  },
  {
   "cell_type": "code",
   "execution_count": 137,
   "metadata": {
    "collapsed": false
   },
   "outputs": [
    {
     "name": "stdout",
     "output_type": "stream",
     "text": [
      "Error due to unknown words: 0.040594051117194496.\n",
      "Error due to known words: 0.07770550267473691.\n"
     ]
    }
   ],
   "source": [
    "def remove_tags(sent):\n",
    "    return [word for (word, _) in sent]\n",
    "tagged_test = [tagger.tag(remove_tags(sent)) for sent in clean_test]\n",
    "test_size = sum([1 for sent in clean_test for word in sent])\n",
    "unk_num = sum([1 for sent in tagged_test for (_, tag) in sent if tag == \"NONE\"])\n",
    "known_num = 0\n",
    "for i in range(len(clean_test)):\n",
    "    for j in range(len(clean_test[i])):\n",
    "        if (tagged_test[i][j][1] != \"NONE\") and (tagged_test[i][j][1] != clean_test[i][j][1]):\n",
    "            known_num += 1\n",
    "print(\"Error due to unknown words: {0}.\".format(unk_num/test_size))\n",
    "print(\"Error due to known words: {0}.\".format(known_num/test_size))"
   ]
  },
  {
   "cell_type": "markdown",
   "metadata": {},
   "source": [
    "3.1.4 Rate of unknown words per category"
   ]
  },
  {
   "cell_type": "code",
   "execution_count": 103,
   "metadata": {
    "collapsed": false
   },
   "outputs": [
    {
     "name": "stdout",
     "output_type": "stream",
     "text": [
      "mystery: 146 unkown words.\n",
      "lore: 393 unkown words.\n",
      "adventure: 364 unkown words.\n",
      "belles_lettres: 793 unkown words.\n",
      "religion: 70 unkown words.\n",
      "reviews: 219 unkown words.\n",
      "hobbies: 435 unkown words.\n",
      "news: 392 unkown words.\n",
      "government: 233 unkown words.\n",
      "science_fiction: 26 unkown words.\n",
      "romance: 191 unkown words.\n",
      "learned: 943 unkown words.\n",
      "humor: 172 unkown words.\n",
      "editorial: 244 unkown words.\n",
      "fiction: 228 unkown words.\n"
     ]
    }
   ],
   "source": [
    "for cat in test.keys():\n",
    "    tagged_words = tagger.tag([word for sent in test[cat] for (word, _) in sent])\n",
    "    print(\"{0}: {1} unkown words.\".format(cat, sum([1 for (_, tag) in tagged_words if tag == \"NONE\"])))"
   ]
  },
  {
   "cell_type": "code",
   "execution_count": null,
   "metadata": {
    "collapsed": true
   },
   "outputs": [],
   "source": []
  }
 ],
 "metadata": {
  "anaconda-cloud": {},
  "kernelspec": {
   "display_name": "Python 3",
   "language": "python",
   "name": "python3"
  },
  "language_info": {
   "codemirror_mode": {
    "name": "ipython",
    "version": 3
   },
   "file_extension": ".py",
   "mimetype": "text/x-python",
   "name": "python",
   "nbconvert_exporter": "python",
   "pygments_lexer": "ipython3",
   "version": "3.5.2"
  }
 },
 "nbformat": 4,
 "nbformat_minor": 0
}
