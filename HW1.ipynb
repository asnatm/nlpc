{
 "cells": [
  {
   "cell_type": "markdown",
   "metadata": {},
   "source": [
    "# NLP 2017 - HW1"
   ]
  },
  {
   "cell_type": "markdown",
   "metadata": {},
   "source": [
    "### Asi Messica and Eran Barash"
   ]
  },
  {
   "cell_type": "markdown",
   "metadata": {
    "collapsed": false
   },
   "source": [
    "1. Data exploration\n",
    "1.1 Manual tagging\n"
   ]
  },
  {
   "cell_type": "code",
   "execution_count": 16,
   "metadata": {
    "collapsed": false
   },
   "outputs": [],
   "source": [
    "sentence1 = \"One of the most basic and most useful task when processing text is to tokenize each word separately and label each word according to its most likely part of speech.\"\n",
    "sentence1_manual_tagging = \"One/DET of/ADP the/DET most/ basic/ and/ most/ useful/ task/NOUN when/ processing/VERB text/NOUN is/ to/ tokenize/VERB each/ word/NOUN seaperately/ and/ label/VERB each/ word/NOUN according/ to/ its/ most/ likely/ part/ of/ speech/ \""
   ]
  },
  {
   "cell_type": "code",
   "execution_count": 20,
   "metadata": {
    "collapsed": true
   },
   "outputs": [],
   "source": [
    "sentence1_manual_tagging =nltk.pos_tag(nltk.word_tokenize(sentence1))"
   ]
  },
  {
   "cell_type": "code",
   "execution_count": 21,
   "metadata": {
    "collapsed": false,
    "scrolled": true
   },
   "outputs": [
    {
     "name": "stdout",
     "output_type": "stream",
     "text": [
      "[('One', 'CD'), ('of', 'IN'), ('the', 'DT'), ('most', 'RBS'), ('basic', 'JJ'), ('and', 'CC'), ('most', 'JJS'), ('useful', 'JJ'), ('task', 'NN'), ('when', 'WRB'), ('processing', 'VBG'), ('text', 'NN'), ('is', 'VBZ'), ('to', 'TO'), ('tokenize', 'VB'), ('each', 'DT'), ('word', 'NN'), ('separately', 'RB'), ('and', 'CC'), ('label', 'VB'), ('each', 'DT'), ('word', 'NN'), ('according', 'VBG'), ('to', 'TO'), ('its', 'PRP$'), ('most', 'RBS'), ('likely', 'JJ'), ('part', 'NN'), ('of', 'IN'), ('speech', 'NN'), ('.', '.')]\n"
     ]
    }
   ],
   "source": [
    "print(sentence1_manual_tagging)"
   ]
  },
  {
   "cell_type": "markdown",
   "metadata": {
    "collapsed": true
   },
   "source": [
    "1.2 Gathering and Cleaning Up Data"
   ]
  },
  {
   "cell_type": "code",
   "execution_count": 1,
   "metadata": {
    "collapsed": false
   },
   "outputs": [
    {
     "name": "stdout",
     "output_type": "stream",
     "text": [
      "https://en.wikipedia.org/wiki/Nobel_Prize\n",
      "https://www.facebook.com/nobelprize/\n",
      "https://www.youtube.com/user/thenobelprize\n",
      "https://en.wikipedia.org/wiki/Nobel_Prize\n",
      "https://www.nobelprize.org/\n",
      "http://www.businessinsider.com/who-will-win-nobel-prize-in-physics-for-gravitational-waves-2016-2\n",
      "https://en.wikipedia.org/wiki/List_of_Nobel_laureates_in_Physics\n",
      "http://iaskracker.com/5-things-to-know-about-the-nobel-prize/\n",
      "http://www.bbc.com/news/world-europe-38280402\n",
      "https://sweden.se/society/the-nobel-prize-awarding-great-minds/\n",
      "http://www.nytimes.com/topic/subject/nobel-prizes\n",
      "http://indianexpress.com/article/world/nobel-prize-2016-bob-dylan-juan-manuel-santos-here-is-the-list-of-winners-and-their-work-4420869/\n",
      "http://www.independent.co.uk/arts-entertainment/music/news/bob-dylan-nobel-prize-acceptance-speech-read-a7468096.html\n"
     ]
    }
   ],
   "source": [
    "import google3\n",
    "import justext\n",
    "import requests\n",
    "import re\n",
    "import nltk\n",
    "\n",
    "search = \"nobel prize\"\n",
    "filename = \"cleanTxt\"\n",
    "links = google3.getGoogleResults(search)\n",
    "i=0\n",
    "cutOff = 20\n",
    "max = 10\n",
    "for url in links:\n",
    "    if (i<max):\n",
    "            try:\n",
    "                print(url)\n",
    "                html = requests.get(url).text\n",
    "            except:\n",
    "                print(\"error\") \n",
    "            html = re.sub(\"[\\r\\n]+\", \"\\n\", html)\n",
    "            html = re.sub(\"[\\n]+\", \"\\n\", html)\n",
    "            html = re.sub(\"[\\t, ]+\",\" \", html)\n",
    "            html = re.sub(\"[\\t, ]+\",\"``\", html)\n",
    "            raw = google3.cleanHtml(html)\n",
    "            if (raw != ''):\n",
    "                pfileName = filename + str(i) + \".txt\"\n",
    "                print(\"raw \"+str(i)+raw+\"\\n\")\n",
    "                google3.PrintFile(raw,pfileName)\n",
    "                i+=1\n",
    "\n"
   ]
  },
  {
   "cell_type": "code",
   "execution_count": 4,
   "metadata": {
    "collapsed": false
   },
   "outputs": [
    {
     "ename": "NameError",
     "evalue": "name 'filename' is not defined",
     "output_type": "error",
     "traceback": [
      "\u001b[0;31m---------------------------------------------------------------------------\u001b[0m",
      "\u001b[0;31mNameError\u001b[0m                                 Traceback (most recent call last)",
      "\u001b[0;32m<ipython-input-4-d9b37f06746d>\u001b[0m in \u001b[0;36m<module>\u001b[0;34m()\u001b[0m\n\u001b[1;32m      1\u001b[0m \u001b[0;31m#read and tag 20 senteces from one file\u001b[0m\u001b[0;34m\u001b[0m\u001b[0;34m\u001b[0m\u001b[0m\n\u001b[1;32m      2\u001b[0m \u001b[0;34m\u001b[0m\u001b[0m\n\u001b[0;32m----> 3\u001b[0;31m \u001b[0mpfileName\u001b[0m \u001b[0;34m=\u001b[0m \u001b[0;34m\".//Data//\"\u001b[0m\u001b[0;34m+\u001b[0m\u001b[0mfilename\u001b[0m\u001b[0;34m+\u001b[0m \u001b[0;34m\"0\"\u001b[0m \u001b[0;34m+\u001b[0m \u001b[0;34m\".txt\"\u001b[0m\u001b[0;34m\u001b[0m\u001b[0m\n\u001b[0m\u001b[1;32m      4\u001b[0m \u001b[0;32mwith\u001b[0m \u001b[0mopen\u001b[0m\u001b[0;34m(\u001b[0m\u001b[0mpfileName\u001b[0m\u001b[0;34m)\u001b[0m \u001b[0;32mas\u001b[0m \u001b[0mf\u001b[0m\u001b[0;34m:\u001b[0m\u001b[0;34m\u001b[0m\u001b[0m\n\u001b[1;32m      5\u001b[0m     \u001b[0;32mfor\u001b[0m \u001b[0mline\u001b[0m \u001b[0;32min\u001b[0m \u001b[0mf\u001b[0m\u001b[0;34m:\u001b[0m\u001b[0;34m\u001b[0m\u001b[0m\n",
      "\u001b[0;31mNameError\u001b[0m: name 'filename' is not defined"
     ]
    }
   ],
   "source": [
    "#read and tag 20 senteces from one file   \n",
    "\n",
    "pfileName = \".//Data//\"+filename+ \"0\" + \".txt\"\n",
    "with open(pfileName) as f:\n",
    "    for line in f:\n",
    "        print(line)\n",
    "        tokens = nltk.word_tokenize(line)\n",
    "        print(tokens)\n",
    "        tagging = nltk.pos_tag(tokens,tagset='universal')\n",
    "        print(tagging)\n",
    "        \n",
    "        \n",
    "\n",
    "#print(text)"
   ]
  },
  {
   "cell_type": "markdown",
   "metadata": {
    "collapsed": true
   },
   "source": [
    "1.3 Gathering Basic Statistics"
   ]
  },
  {
   "cell_type": "code",
   "execution_count": 17,
   "metadata": {
    "collapsed": false,
    "scrolled": false
   },
   "outputs": [
    {
     "data": {
      "image/png": "[encoded data removed]",
      "text/plain": [
       "<matplotlib.figure.Figure at 0x7f8ad0c7c518>"
      ]
     },
     "metadata": {},
     "output_type": "display_data"
    }
   ],
   "source": [
    "import nltk\n",
    "from nltk.corpus import brown\n",
    "import pylab\n",
    "\n",
    "cfd = nltk.ConditionalFreqDist(brown.tagged_words())\n",
    "size2words = nltk.Index((len(tags), word) for (word, tags) in cfd.items())\n",
    "sizes = pylab.arange(1, 12)\n",
    "\n",
    "pylab.plot(sizes, [len(size2words[size]) for size in sizes], '-bo')\n",
    "pylab.title('Number of words with a given number of tags')\n",
    "pylab.xlabel('Number of tags')\n",
    "pylab.ylabel('Number of words')\n",
    "pylab.show()"
   ]
  },
  {
   "cell_type": "markdown",
   "metadata": {},
   "source": [
    "2. Stratified Test/Train Sets\n",
    "'train' and 'test' are dictionaries of category: tagged_sents. This was done inorder to simplify follwing tasks. "
   ]
  },
  {
   "cell_type": "code",
   "execution_count": 76,
   "metadata": {
    "collapsed": true
   },
   "outputs": [],
   "source": [
    "import nltk\n",
    "from functools import reduce\n",
    "from nltk.corpus import brown \n",
    "\n",
    "def category_split(sents, ratio):\n",
    "    size = int(len(sents) * ratio)\n",
    "    return sents[:size], sents[size:]\n",
    "\n",
    "def stratified_split(corpus, ratio=0.9):\n",
    "    train = {}\n",
    "    test = {}\n",
    "    for cat in corpus.categories():\n",
    "        cat_train_test = category_split(corpus.tagged_sents(categories=cat), ratio)\n",
    "        train[cat] = cat_train_test[0]\n",
    "        test[cat] = cat_train_test[1]\n",
    "    return train, test"
   ]
  },
  {
   "cell_type": "code",
   "execution_count": 216,
   "metadata": {
    "collapsed": false,
    "scrolled": true
   },
   "outputs": [],
   "source": [
    "train, test = stratified_split(brown)"
   ]
  },
  {
   "cell_type": "markdown",
   "metadata": {},
   "source": [
    "3. Unigram"
   ]
  },
  {
   "cell_type": "markdown",
   "metadata": {},
   "source": [
    "3.1.1 Class SimpleUnigramTagger"
   ]
  },
  {
   "cell_type": "code",
   "execution_count": 268,
   "metadata": {
    "collapsed": false
   },
   "outputs": [],
   "source": [
    "import nltk\n",
    "from collections import defaultdict\n",
    "class SimpleUnigramTagger(nltk.TaggerI):\n",
    "    def __init__(self, train):\n",
    "        self._train(train)\n",
    "        \n",
    "    def _train(self, tagged_corpus):\n",
    "        tagged_words = [tagged_word for sent in tagged_corpus for tagged_word in sent]\n",
    "        cfd = nltk.ConditionalFreqDist(tagged_words)\n",
    "        self._likely_tags = defaultdict(lambda: 'NONE')\n",
    "        for word in cfd:\n",
    "            self._likely_tags[word] = cfd[word].max()\n",
    "        \n",
    "    def tag(self, tokens):\n",
    "        return [(word, self._likely_tags[word]) for word in tokens]\n",
    "    \n",
    "    def tag_one(self, word):\n",
    "        return word, self._likely_tags[word]\n"
   ]
  },
  {
   "cell_type": "markdown",
   "metadata": {},
   "source": [
    "3.1.2 SimpleUnigramTagger and nltk.UnigramTagger evalution comparison"
   ]
  },
  {
   "cell_type": "code",
   "execution_count": 105,
   "metadata": {
    "collapsed": false
   },
   "outputs": [
    {
     "name": "stdout",
     "output_type": "stream",
     "text": [
      "SimpleUnigramTagger evaluation: \n",
      "0.8817004462080685\n",
      "\n",
      "nltk.UnigramTagger evaluation: \n",
      "0.8817004462080685\n"
     ]
    }
   ],
   "source": [
    "clean_train = [sent for sents in train.values() for sent in sents]\n",
    "clean_test = [sent for sents in test.values() for sent in sents]\n",
    "tagger = SimpleUnigramTagger(train=clean_train)\n",
    "nltk_tagger = nltk.UnigramTagger(train=clean_train)\n",
    "\n",
    "print(\"SimpleUnigramTagger evaluation: \\n{0}\\n\".format(tagger.evaluate(clean_test)))\n",
    "print(\"nltk.UnigramTagger evaluation: \\n{0}\".format(nltk_tagger.evaluate(clean_test)))"
   ]
  },
  {
   "cell_type": "markdown",
   "metadata": {},
   "source": [
    "3.1.3 Known and unknown words"
   ]
  },
  {
   "cell_type": "code",
   "execution_count": 137,
   "metadata": {
    "collapsed": false
   },
   "outputs": [
    {
     "name": "stdout",
     "output_type": "stream",
     "text": [
      "Error due to unknown words: 0.040594051117194496.\n",
      "Error due to known words: 0.07770550267473691.\n"
     ]
    }
   ],
   "source": [
    "def remove_tags(sent):\n",
    "    return [word for (word, _) in sent]\n",
    "tagged_test = [tagger.tag(remove_tags(sent)) for sent in clean_test]\n",
    "test_size = sum([1 for sent in clean_test for word in sent])\n",
    "unk_num = sum([1 for sent in tagged_test for (_, tag) in sent if tag == \"NONE\"])\n",
    "known_num = 0\n",
    "for i in range(len(clean_test)):\n",
    "    for j in range(len(clean_test[i])):\n",
    "        if (tagged_test[i][j][1] != \"NONE\") and (tagged_test[i][j][1] != clean_test[i][j][1]):\n",
    "            known_num += 1\n",
    "print(\"Error due to unknown words: {0}.\".format(unk_num/test_size))\n",
    "print(\"Error due to known words: {0}.\".format(known_num/test_size))"
   ]
  },
  {
   "cell_type": "markdown",
   "metadata": {},
   "source": [
    "3.1.4 Rate of unknown words per category"
   ]
  },
  {
   "cell_type": "code",
   "execution_count": 103,
   "metadata": {
    "collapsed": false
   },
   "outputs": [
    {
     "name": "stdout",
     "output_type": "stream",
     "text": [
      "mystery: 146 unkown words.\n",
      "lore: 393 unkown words.\n",
      "adventure: 364 unkown words.\n",
      "belles_lettres: 793 unkown words.\n",
      "religion: 70 unkown words.\n",
      "reviews: 219 unkown words.\n",
      "hobbies: 435 unkown words.\n",
      "news: 392 unkown words.\n",
      "government: 233 unkown words.\n",
      "science_fiction: 26 unkown words.\n",
      "romance: 191 unkown words.\n",
      "learned: 943 unkown words.\n",
      "humor: 172 unkown words.\n",
      "editorial: 244 unkown words.\n",
      "fiction: 228 unkown words.\n"
     ]
    }
   ],
   "source": [
    "for cat in test.keys():\n",
    "    tagged_words = tagger.tag([word for sent in test[cat] for (word, _) in sent])\n",
    "    print(\"{0}: {1} unkown words.\".format(cat, sum([1 for (_, tag) in tagged_words if tag == \"NONE\"])))"
   ]
  },
  {
   "cell_type": "markdown",
   "metadata": {
    "collapsed": true
   },
   "source": [
    "3.2 Using Entropy to Filter Affix Tagger"
   ]
  },
  {
   "cell_type": "code",
   "execution_count": 405,
   "metadata": {
    "collapsed": false
   },
   "outputs": [],
   "source": [
    "from math import log\n",
    "from collections import defaultdict\n",
    "\n",
    "# length of suffix to map suffix->tag\n",
    "suffix_length = -2\n",
    "\n",
    "# get token's suffix \n",
    "def get_context(token):\n",
    "    return token[suffix_length:]\n",
    "\n",
    "def entropy(tag_fd):\n",
    "    total_occ = sum([occ for (_, occ) in tag_fd])\n",
    "    res = 0\n",
    "    for (_, occ) in tag_fd:\n",
    "        p = occ / total_occ\n",
    "        res -= p * log(p, 2)\n",
    "    return res\n",
    "\n",
    "def aff_train(tagged_corpus, cutoff=0):\n",
    "    \n",
    "    # Count how many times each tag occurs in each context.\n",
    "    fd = nltk.ConditionalFreqDist()\n",
    "    for sentence in tagged_corpus:\n",
    "        for (token, tag) in sentence:\n",
    "            context = get_context(token)\n",
    "            fd[context][tag] += 1\n",
    "    \n",
    "    context_to_tag = dict((word, fd[word].max()) for word in fd if entropy(fd[word].items()) < cutoff)\n",
    "    return context_to_tag\n",
    "    \n",
    "    "
   ]
  },
  {
   "cell_type": "markdown",
   "metadata": {},
   "source": [
    "Dividing the train set to train and developement:"
   ]
  },
  {
   "cell_type": "code",
   "execution_count": 395,
   "metadata": {
    "collapsed": false
   },
   "outputs": [],
   "source": [
    "ratio = 0.9\n",
    "opt_train = []\n",
    "opt_dev = []\n",
    "for sents in train.values():\n",
    "    train_size = int(ratio * len(sents))\n",
    "    opt_train += sents[:train_size]\n",
    "    opt_dev += sents[train_size:]"
   ]
  },
  {
   "cell_type": "markdown",
   "metadata": {},
   "source": [
    "Choosing cutoff's range"
   ]
  },
  {
   "cell_type": "code",
   "execution_count": 308,
   "metadata": {
    "collapsed": false,
    "scrolled": true
   },
   "outputs": [
    {
     "data": {
      "image/png": "[encoded data removed]",
      "text/plain": [
       "<matplotlib.figure.Figure at 0x7ffa5f957940>"
      ]
     },
     "metadata": {},
     "output_type": "display_data"
    }
   ],
   "source": [
    "import pylab\n",
    "from numpy import arange\n",
    "cutoffs = arange(0, 4, 0.5)\n",
    "pylab.plot(cutoffs, [len(aff_train(clean_train, cutoff)) for cutoff in cutoffs], '-bo')\n",
    "pylab.title('Model size vs. cutoff')\n",
    "pylab.xlabel('cutoff')\n",
    "pylab.ylabel('model size (number of words)')\n",
    "pylab.show()"
   ]
  },
  {
   "cell_type": "markdown",
   "metadata": {},
   "source": [
    "Optimizing the cutoff"
   ]
  },
  {
   "cell_type": "code",
   "execution_count": 396,
   "metadata": {
    "collapsed": false
   },
   "outputs": [],
   "source": [
    "backoff = SimpleUnigramTagger(opt_train)\n",
    "counter = 0\n",
    "def aff_tag_one(token, context):\n",
    "    if token in context:\n",
    "        return token, context[token]\n",
    "        \n",
    "    else:\n",
    "        return backoff.tag_one(token)\n",
    "\n",
    "def aff_tag(tokens, context):\n",
    "    return [aff_tag_one(token, context) for token in tokens]"
   ]
  },
  {
   "cell_type": "code",
   "execution_count": 397,
   "metadata": {
    "collapsed": false
   },
   "outputs": [],
   "source": [
    "opt_dev_clean = [word for sent in opt_dev for word in sent]\n",
    "size = len(opt_dev_clean)\n",
    "def opt_cutoff(cutoff):\n",
    "    context_to_tag = aff_train(opt_train, cutoff)\n",
    "    tagged = aff_tag(remove_tags(opt_dev_clean), context_to_tag)\n",
    "    error = 0\n",
    "    for i in range(len(opt_dev_clean)):\n",
    "        if tagged[i][1] != opt_dev_clean[i][1]:\n",
    "            error += 1\n",
    "    return error / size"
   ]
  },
  {
   "cell_type": "code",
   "execution_count": 403,
   "metadata": {
    "collapsed": true
   },
   "outputs": [],
   "source": [
    "cutoffs = arange(0, 1, 0.1)\n",
    "errors = [opt_cutoff(cutoff) for cutoff in cutoffs]"
   ]
  },
  {
   "cell_type": "code",
   "execution_count": 404,
   "metadata": {
    "collapsed": false
   },
   "outputs": [
    {
     "data": {
      "text/plain": [
       "[0.8700567147795442,\n",
       " 0.8701626337226657,\n",
       " 0.8701915207071533,\n",
       " 0.8701915207071533,\n",
       " 0.8701915207071533,\n",
       " 0.8701915207071533,\n",
       " 0.8701915207071533,\n",
       " 0.8636534332181064,\n",
       " 0.8636534332181064,\n",
       " 0.8636534332181064]"
      ]
     },
     "execution_count": 404,
     "metadata": {},
     "output_type": "execute_result"
    }
   ],
   "source": [
    "[1-error for error in errors]"
   ]
  },
  {
   "cell_type": "code",
   "execution_count": 400,
   "metadata": {
    "collapsed": false
   },
   "outputs": [
    {
     "data": {
      "text/plain": [
       "0.8700567147795442"
      ]
     },
     "execution_count": 400,
     "metadata": {},
     "output_type": "execute_result"
    }
   ],
   "source": [
    "backoff.evaluate(opt_dev)"
   ]
  },
  {
   "cell_type": "markdown",
   "metadata": {},
   "source": [
    "Extracting good suffixes"
   ]
  },
  {
   "cell_type": "code",
   "execution_count": 413,
   "metadata": {
    "collapsed": true
   },
   "outputs": [
    {
     "name": "stdout",
     "output_type": "stream",
     "text": [
      "0A,Af,ba,ec,p,.',UK,/,zz,dl,Oh,4),En,B.,Eh,m',5o,ja,of,12,AO,ES,-H,xt,ei,ef,y.,yn,hs,CC,er,nc,88,is,yr,UN,ew,42,.3,j),t},rv,x.,64,ys,9),PM,ch,Q,W,a),-m,Or,KK,ky,-C,81,K.,ar,Y.,EB,ID,sz,-D,gi,av,sc,14,MU,MR,7%,a.,rz,om,ha,ex,uk,Do,jA,uo,yg,ue,6%,bb,'t,VA,ii,xy,d-,98,.2,2,SM,uf,ga,op,C,GA,hm,9',hn,2d,PA,Bo,13,ai,fi,7b,FM,MF,.1,RA,lo,n-,en,ry,72,IA,-o,de,),ub,59,S,'d,q.,I,21,ya,ld,si,ju,wo,CO,pe,45,2C,He,83,F.,'y,vi,ho,wt,o-,O.,GS,ej,0s,jo,NP,VC,``,0-,5-,ds,P',uh,04,e-,M,na,ji,Mi,Eq,43,up,oh,Cr,el,ri,pp,wl,ph,Is,Du,aq,N,OM,/2,:,99,h-,es,li,Q3,fy,rd,25,di,to,39,8e,84,lb,',ix,we,ED,'',go,91,Rh,C',rn,97,ou,ev,od,ms,ki,nh,je,.,nz,h,ie,-d,At,DR,yk,-4,HS,AI,m.,BA,ft,t-,l,3,po,TV,82,Il,dt,YM,vt,eu,cm,n',08,],9,k',40,W.,c),OP,hr,3M,em,Le,55,V.,wi,No,g-,af,fs,sa,38,31,ck,gs,Q.,17,io,6A,a,96,LP,yt,xe,01,rl,51,D.,4',86,b-,44,Al,pm,49,ed,AD,67,an,MM,BE,WC,Um,MI,AM,SE,ik,YJ,Hi,tt,[,HA,so,ep,34,NT,-T,co,l.,qw,-2,My,.0,Ti,We,hl,6a,rf,Jo,MT,48,Pi,PI,NW,-c,69,nq,TO,H6,WS,bl,75,H,gm,hk,ip,El,ve,kh,DF,mi,GM,Ku,lk,NE,M.,9b,56,;,ov,92,-I,ht,ap,09,r',AB,ps,wn,66,OW,A,gg,Ad,v.,78,Ma,ux,DA,du,JA,tu,35,AF,s',mp,rk,4-,r-,18,R,Am,fo,IB,c-,oa,l',g.,tm,rx,i,ku,wr,ur,au,yi,ts,p.,LH,-3,/8,iH,AA,1),b.,hu,79,32,IC,ct,dy,KC,SO,.7,iv,89,20,Io,pH,rs,TU,x,Pe,Z,RO,ke,za,54,ao,ci,lf,&,3d,3%,BI,Pm,os,ye,e.,um,6-,P.,yl,re,.5,SS,sy,la,7e,ca,og,37,eb,R.,sm,OL,N.,$3,41,47,Ah,IO,65,b/,yb,,,/g,sr,be,G,AC,SP,11,It,ak,16,EC,ij,ia,HR,$8,nx,ne,hy,Ed,nu,05,zg,ek,2',H.,ic,sp,X,ra,BS,mc,Me,La,-5,NS,dd,EA,iz,ud,ce,FN,nd,gr,EG,Di,te,lt,30,CS,no,d.,63,ot,0,AL,By,ag,OC,0Y,15,zy,cy,t.,62,ah,AE,ks,or,-p,K,pt,ir,cz,tl,ml,.8,*b,'n,w.,zq,me,rt,Aw,e,le,w,.9,TH,ug,As,70,4,oo,60,BW,bs,sn,k.,BG,al,'m,vo,Re,cs,ac,Pa,sh,F,90,D',IQ,$5,az,4C,eh,85,ln,46,by,1,eg,SU,A5,it,$7,$2,?,33,s.,mb,Be,P,FA,$1,vy,$4,--,LD,E,o',2a,Co,ee,ox,MO,y,9%,RF,/c,ok,lp,I.,ab,st,wa,mn,Lo,7,PR,ls,RB,f.,PW,8,28,ti,BO,-A,as,LA,So,mm,93,4%,ll,hp,oc,73,52,GF,06,DU,fa,Of,nn,BB,O,00,80,Se,-6,t',ad,j.,nk,ym,bt,mg,gh,87,gn,dn,uc,Uh,aw,ey,Aj,US,ta,ax,26,pi,u,n,N',t,J,bi,ow,8%,am,pf,su,$9,oy,B,uu,U.,sl,va,ua,ge,mV,6),ze,ih,Po,ni,ny,ig,nt,xi,fe,ff,f,-a,l/,'s,74,If,UC,da,yu,CB,CD,OS,-1,U,z.,Ms,ma,L.,Us,lm,1%,c.,CU,C.,2s,MA,TC,rh,ng,CH,53,IU,gy,py,29,L,-P,YU,WA,95,10,ul,jK,ae,rr,'r,De,ui,Cs,On,ru,zu,/4,Fe,T},se,E.,22,mu,lu,J.,!,RL,/3,AP,Wu,Da,mo,-e,0%,02,ty,2H,5,ly,il,T.,ib,yo,6,-7,yd,SW,TA,G.,bn,hh,in,wh,ND,ob,zi,T,CA,at,o,uy,.6,SR,th,58,.4,ws,yp,Y,us,-E,71,'l,-0,o.,do,24,NC,wy,rc,kt,Si,(,76,TR,on,OH,Ye,zo,SD,oe,yc,g,-K,hi,hf,rb,if,ol,57,vs,wd,An,rm,D8,In,z',ea,my,et,ay,b,im,ns,sk,19,pa,hd,Go,BC,36,fu,bo,'a,u.,Ax,ME,94,mt,ez,5%,ka,ro,S.,PH,eo,rg,rp,oz,-,+,r/,2%,A.,To,D,uz,BM,50,ko,id,aj,un,-9,-8,23,AN,jB,r.,77,07,1b,ss,1M,DC,V,OK,n.,tz,1a,'k,he,h.,PQ,-B,61,27,wk,AS,ut,03,SH,oi,Up,68\n"
     ]
    }
   ],
   "source": [
    "context_to_tag = aff_train(opt_train, 0.6)\n",
    "print(\",\".join(context_to_tag.keys()))"
   ]
  },
  {
   "cell_type": "markdown",
   "metadata": {},
   "source": [
    "### Discussion:\n",
    "\n",
    "Does entropy filtering improve the accuracy of the AffixTagger?\n",
    "As seen above, entropy filtering did not improve the unigram tagger's accuracy. Tests were done on suffixes of length 3 and 2. Only 2-long suffixes improved accuracy by a negligent sum.\n",
    "\n",
    "How do you determine the range of values to test for the cutoff?\n",
    "As seen in the graph above, the range which affected the context size was chosen as the tested cutoff range. At the beginning, the range was 0..3, but it was then reduced to 0..1 since the error was monotonously rising after roughly cutoff=6.\n",
    "\n",
    "Is the accuracy value evolving in a predictable manner as the cutoff varies?\n",
    "As the cutoff increases, accuracy reduces. As the cutoff increases, the model allows more suffix tagging, and relies less on the unigram tagger. In this particular case, the unigram tagging seems preferable to suffix tagging, and thus the trend makes sense. Perhaps on a larger database, suffix tagging would have shown better results. \n",
    "\n",
    "Describe the list of suffixes that are good tag predictors -- are you surprised by what you observe?\n",
    "Seems like mostly random letters, digits, signs. These were presumably rare in the data-set and thus less ambigous - better predictors. In some cases, those are complete words, like am (which could be ambigous also) or he (less ambigous).  "
   ]
  }
 ],
 "metadata": {
  "anaconda-cloud": {},
  "kernelspec": {
   "display_name": "Python 3",
   "language": "python",
   "name": "python3"
  },
  "language_info": {
   "codemirror_mode": {
    "name": "ipython",
    "version": 3
   },
   "file_extension": ".py",
   "mimetype": "text/x-python",
   "name": "python",
   "nbconvert_exporter": "python",
   "pygments_lexer": "ipython3",
   "version": "3.5.2"
  }
 },
 "nbformat": 4,
 "nbformat_minor": 0
}
